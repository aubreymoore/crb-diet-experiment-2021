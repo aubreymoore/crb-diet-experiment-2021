{
 "cells": [
  {
   "attachments": {
    "egg_survival_table.png": {
     "image/png": "[encoded data removed]"
    }
   },
   "cell_type": "markdown",
   "id": "682e29c6",
   "metadata": {},
   "source": [
    "# TECH REPORT: Comparison of Larval Diets for Rearing Coconut Rhinoceros Beetle\n",
    "\n",
    "### James Grasela, Christopher Cayanan and Aubrey Moore\n",
    "\n",
    "### College of Natural and Applied Sciences, University of Guam\n",
    "\n",
    "Updated 2021-09-18\n",
    "\n",
    "GitHub repository:\n",
    "\n",
    "GitHub pages:\n",
    "\n",
    "## Introduction\n",
    "\n",
    "## Materials and Methods\n",
    "\n",
    "This was an investigation to determine the growth (weight gain) of coconut rhinoceros\n",
    "beetle (CRB) larva fed four different diets. Initial set up used CRB eggs placed in small\n",
    "vials, allowed to hatch and monitored the growth of the newly emerged larvae. The\n",
    "results from the study showed that the above two diets were the most ideal for larvae\n",
    "growth (Figs.1, 2). The other two “diets” (1) sphagnum peat moss (SM) and (2) “pure”\n",
    "(PF) frass pellets (obtained by manually separating out some of the frass pellets found\n",
    "in the FCT field sample) and then pulverized to form a powder were both poor diets for\n",
    "CRB larvae. Many of the larvae fed PF only survived from 2-3 weeks with little or no\n",
    "gain in weight, while the SM diet was even less supportive of larva growth dying within a\n",
    "week. Moreover, though both CM and FCT out performed PF and SM, CM showed\n",
    "higher larva mortality near the end of the study than FCT. Larva fed FCT also appeared\n",
    "to gain weight faster than CM but after 9 weeks larva fed CM appeared to have a higher\n",
    "overall increase in mean weight.\n",
    "\n",
    "## Results and Discussion\n",
    "\n",
    "### Treatment effect on egg hatch\n",
    "\n",
    "![egg_survival_table.png](attachment:egg_survival_table.png)\n",
    "\n",
    "![egg_survival_plot,png](egg_survival_plot.png)\n",
    "\n",
    "### Treatment effect on larval survival\n",
    "\n",
    "![larval_survival_table.png](larval_survival_table.png)\n",
    "\n",
    "![larval_survival_plot.png](larval_survival_plot.png)\n",
    "\n",
    "### Treatment effect on larval mass at end of experiment\n",
    "\n",
    "![larval_mass_table.png](larval_mass_table.png)\n",
    "\n",
    "![larval_mass_plot.png](larval_mass_plot.png)"
   ]
  },
  {
   "cell_type": "markdown",
   "id": "441c608b",
   "metadata": {},
   "source": [
    "# Analysis"
   ]
  },
  {
   "cell_type": "code",
   "execution_count": 21,
   "id": "d0db9f87-65bd-4bf3-97ca-3d2c6916facc",
   "metadata": {},
   "outputs": [],
   "source": [
    "import pandas as pd\n",
    "pd.options.plotting.backend = \"plotly\"\n",
    "\n",
    "from pandasql import sqldf\n",
    "import os\n",
    "import dataframe_image as dfi\n",
    "import chisq_test_wrapper\n",
    "import plotly.express as px\n",
    "import kaleido"
   ]
  },
  {
   "cell_type": "markdown",
   "id": "c655609b-ad78-4eb5-ac67-638bc28015af",
   "metadata": {},
   "source": [
    "## Data Preparation"
   ]
  },
  {
   "cell_type": "markdown",
   "id": "8f8b20e7-08de-4e92-a234-ff6da9724e32",
   "metadata": {},
   "source": [
    "### Read Initial Spreadsheet"
   ]
  },
  {
   "cell_type": "code",
   "execution_count": 22,
   "id": "7af48de0-4f7d-41f3-9897-62bc0e889171",
   "metadata": {},
   "outputs": [
    {
     "data": {
      "text/html": [
       "<div>\n",
       "<style scoped>\n",
       "    .dataframe tbody tr th:only-of-type {\n",
       "        vertical-align: middle;\n",
       "    }\n",
       "\n",
       "    .dataframe tbody tr th {\n",
       "        vertical-align: top;\n",
       "    }\n",
       "\n",
       "    .dataframe thead th {\n",
       "        text-align: right;\n",
       "    }\n",
       "</style>\n",
       "<table border=\"1\" class=\"dataframe\">\n",
       "  <thead>\n",
       "    <tr style=\"text-align: right;\">\n",
       "      <th></th>\n",
       "      <th>Treatment</th>\n",
       "      <th>Larvae ID</th>\n",
       "      <th>Hatch Date</th>\n",
       "      <th>Date</th>\n",
       "      <th>Weight (mg)</th>\n",
       "      <th>Hatch Date.1</th>\n",
       "      <th>Date.1</th>\n",
       "      <th>Weight (mg).1</th>\n",
       "      <th>Hatch Date.2</th>\n",
       "      <th>Date.2</th>\n",
       "      <th>...</th>\n",
       "      <th>Weight (mg).12</th>\n",
       "      <th>Hatch Date.13</th>\n",
       "      <th>Date.13</th>\n",
       "      <th>Weight (mg).13</th>\n",
       "      <th>Hatch Date.14</th>\n",
       "      <th>Date.14</th>\n",
       "      <th>Weight (mg).14</th>\n",
       "      <th>Hatch Date.15</th>\n",
       "      <th>Date.15</th>\n",
       "      <th>Weight (mg).15</th>\n",
       "    </tr>\n",
       "  </thead>\n",
       "  <tbody>\n",
       "    <tr>\n",
       "      <th>0</th>\n",
       "      <td>FCT 5/11/2021</td>\n",
       "      <td>1</td>\n",
       "      <td>5/24/2021 L</td>\n",
       "      <td>2021-05-24 00:00:00</td>\n",
       "      <td>203</td>\n",
       "      <td>6/2/2021 L</td>\n",
       "      <td>2021-06-02 00:00:00</td>\n",
       "      <td>420</td>\n",
       "      <td>6/9/2021 L</td>\n",
       "      <td>2021-06-09 00:00:00</td>\n",
       "      <td>...</td>\n",
       "      <td>NaN</td>\n",
       "      <td>NaN</td>\n",
       "      <td>NaN</td>\n",
       "      <td>NaN</td>\n",
       "      <td>NaN</td>\n",
       "      <td>NaN</td>\n",
       "      <td>NaN</td>\n",
       "      <td>NaN</td>\n",
       "      <td>NaN</td>\n",
       "      <td>NaN</td>\n",
       "    </tr>\n",
       "    <tr>\n",
       "      <th>1</th>\n",
       "      <td>FCT 5/11/2021</td>\n",
       "      <td>2</td>\n",
       "      <td>5/24/2021 L</td>\n",
       "      <td>2021-05-24 00:00:00</td>\n",
       "      <td>114</td>\n",
       "      <td>6/2/2021 L</td>\n",
       "      <td>2021-06-02 00:00:00</td>\n",
       "      <td>381</td>\n",
       "      <td>6/9/2021 L</td>\n",
       "      <td>2021-06-09 00:00:00</td>\n",
       "      <td>...</td>\n",
       "      <td>NaN</td>\n",
       "      <td>NaN</td>\n",
       "      <td>NaN</td>\n",
       "      <td>NaN</td>\n",
       "      <td>NaN</td>\n",
       "      <td>NaN</td>\n",
       "      <td>NaN</td>\n",
       "      <td>NaN</td>\n",
       "      <td>NaN</td>\n",
       "      <td>NaN</td>\n",
       "    </tr>\n",
       "    <tr>\n",
       "      <th>2</th>\n",
       "      <td>FCT 5/11/2021</td>\n",
       "      <td>3</td>\n",
       "      <td>5/24/2021 L</td>\n",
       "      <td>2021-05-24 00:00:00</td>\n",
       "      <td>256</td>\n",
       "      <td>6/2/2021 L</td>\n",
       "      <td>2021-06-02 00:00:00</td>\n",
       "      <td>385</td>\n",
       "      <td>6/9/2021 L</td>\n",
       "      <td>2021-06-09 00:00:00</td>\n",
       "      <td>...</td>\n",
       "      <td>NaN</td>\n",
       "      <td>NaN</td>\n",
       "      <td>NaN</td>\n",
       "      <td>NaN</td>\n",
       "      <td>NaN</td>\n",
       "      <td>NaN</td>\n",
       "      <td>NaN</td>\n",
       "      <td>NaN</td>\n",
       "      <td>NaN</td>\n",
       "      <td>NaN</td>\n",
       "    </tr>\n",
       "    <tr>\n",
       "      <th>3</th>\n",
       "      <td>FCT 5/11/2021</td>\n",
       "      <td>4</td>\n",
       "      <td>5/24/2021 L</td>\n",
       "      <td>2021-05-24 00:00:00</td>\n",
       "      <td>145</td>\n",
       "      <td>6/2/2021 L</td>\n",
       "      <td>2021-06-02 00:00:00</td>\n",
       "      <td>424</td>\n",
       "      <td>6/9/2021 L</td>\n",
       "      <td>2021-06-09 00:00:00</td>\n",
       "      <td>...</td>\n",
       "      <td>NaN</td>\n",
       "      <td>NaN</td>\n",
       "      <td>NaN</td>\n",
       "      <td>NaN</td>\n",
       "      <td>NaN</td>\n",
       "      <td>NaN</td>\n",
       "      <td>NaN</td>\n",
       "      <td>NaN</td>\n",
       "      <td>NaN</td>\n",
       "      <td>NaN</td>\n",
       "    </tr>\n",
       "    <tr>\n",
       "      <th>4</th>\n",
       "      <td>FCT 5/11/2021</td>\n",
       "      <td>5</td>\n",
       "      <td>5/24/2021 L</td>\n",
       "      <td>2021-05-24 00:00:00</td>\n",
       "      <td>236</td>\n",
       "      <td>6/2/2021 L</td>\n",
       "      <td>2021-06-02 00:00:00</td>\n",
       "      <td>425</td>\n",
       "      <td>6/9/2021 L</td>\n",
       "      <td>2021-06-09 00:00:00</td>\n",
       "      <td>...</td>\n",
       "      <td>NaN</td>\n",
       "      <td>NaN</td>\n",
       "      <td>NaN</td>\n",
       "      <td>NaN</td>\n",
       "      <td>NaN</td>\n",
       "      <td>NaN</td>\n",
       "      <td>NaN</td>\n",
       "      <td>NaN</td>\n",
       "      <td>NaN</td>\n",
       "      <td>NaN</td>\n",
       "    </tr>\n",
       "    <tr>\n",
       "      <th>...</th>\n",
       "      <td>...</td>\n",
       "      <td>...</td>\n",
       "      <td>...</td>\n",
       "      <td>...</td>\n",
       "      <td>...</td>\n",
       "      <td>...</td>\n",
       "      <td>...</td>\n",
       "      <td>...</td>\n",
       "      <td>...</td>\n",
       "      <td>...</td>\n",
       "      <td>...</td>\n",
       "      <td>...</td>\n",
       "      <td>...</td>\n",
       "      <td>...</td>\n",
       "      <td>...</td>\n",
       "      <td>...</td>\n",
       "      <td>...</td>\n",
       "      <td>...</td>\n",
       "      <td>...</td>\n",
       "      <td>...</td>\n",
       "      <td>...</td>\n",
       "    </tr>\n",
       "    <tr>\n",
       "      <th>168</th>\n",
       "      <td>CM 5/17/2021</td>\n",
       "      <td>4</td>\n",
       "      <td>5/25/2021 L</td>\n",
       "      <td>2021-05-25 00:00:00</td>\n",
       "      <td>85</td>\n",
       "      <td>6/1/2021 D</td>\n",
       "      <td>2021-06-01 00:00:00</td>\n",
       "      <td>94</td>\n",
       "      <td>DEAD</td>\n",
       "      <td>DEAD</td>\n",
       "      <td>...</td>\n",
       "      <td>NaN</td>\n",
       "      <td>NaN</td>\n",
       "      <td>NaN</td>\n",
       "      <td>NaN</td>\n",
       "      <td>NaN</td>\n",
       "      <td>NaN</td>\n",
       "      <td>NaN</td>\n",
       "      <td>NaN</td>\n",
       "      <td>NaN</td>\n",
       "      <td>NaN</td>\n",
       "    </tr>\n",
       "    <tr>\n",
       "      <th>169</th>\n",
       "      <td>CM 5/17/2021</td>\n",
       "      <td>5</td>\n",
       "      <td>5/25/2021 EMPTY</td>\n",
       "      <td>EMPTY</td>\n",
       "      <td>0</td>\n",
       "      <td>EMPTY</td>\n",
       "      <td>EMPTY</td>\n",
       "      <td>EMPTY</td>\n",
       "      <td>EMPTY</td>\n",
       "      <td>EMPTY</td>\n",
       "      <td>...</td>\n",
       "      <td>NaN</td>\n",
       "      <td>NaN</td>\n",
       "      <td>NaN</td>\n",
       "      <td>NaN</td>\n",
       "      <td>NaN</td>\n",
       "      <td>NaN</td>\n",
       "      <td>NaN</td>\n",
       "      <td>NaN</td>\n",
       "      <td>NaN</td>\n",
       "      <td>NaN</td>\n",
       "    </tr>\n",
       "    <tr>\n",
       "      <th>170</th>\n",
       "      <td>CM 5/17/2021</td>\n",
       "      <td>6</td>\n",
       "      <td>5/25/2021 L</td>\n",
       "      <td>2021-05-25 00:00:00</td>\n",
       "      <td>152</td>\n",
       "      <td>6/1/2021 L</td>\n",
       "      <td>2021-06-01 00:00:00</td>\n",
       "      <td>284</td>\n",
       "      <td>6/8/2021 D</td>\n",
       "      <td>2021-06-08 00:00:00</td>\n",
       "      <td>...</td>\n",
       "      <td>NaN</td>\n",
       "      <td>NaN</td>\n",
       "      <td>NaN</td>\n",
       "      <td>NaN</td>\n",
       "      <td>NaN</td>\n",
       "      <td>NaN</td>\n",
       "      <td>NaN</td>\n",
       "      <td>NaN</td>\n",
       "      <td>NaN</td>\n",
       "      <td>NaN</td>\n",
       "    </tr>\n",
       "    <tr>\n",
       "      <th>171</th>\n",
       "      <td>CM 5/17/2021</td>\n",
       "      <td>7</td>\n",
       "      <td>5/25/2021 L</td>\n",
       "      <td>2021-05-25 00:00:00</td>\n",
       "      <td>192</td>\n",
       "      <td>6/1/2021 L</td>\n",
       "      <td>2021-06-01 00:00:00</td>\n",
       "      <td>210</td>\n",
       "      <td>6/8/2021 L</td>\n",
       "      <td>2021-06-08 00:00:00</td>\n",
       "      <td>...</td>\n",
       "      <td>NaN</td>\n",
       "      <td>NaN</td>\n",
       "      <td>NaN</td>\n",
       "      <td>NaN</td>\n",
       "      <td>NaN</td>\n",
       "      <td>NaN</td>\n",
       "      <td>NaN</td>\n",
       "      <td>NaN</td>\n",
       "      <td>NaN</td>\n",
       "      <td>NaN</td>\n",
       "    </tr>\n",
       "    <tr>\n",
       "      <th>172</th>\n",
       "      <td>CM 5/17/2021</td>\n",
       "      <td>8</td>\n",
       "      <td>5/25/2021 L</td>\n",
       "      <td>2021-05-25 00:00:00</td>\n",
       "      <td>138</td>\n",
       "      <td>6/1/2021 D</td>\n",
       "      <td>2021-06-01 00:00:00</td>\n",
       "      <td>211</td>\n",
       "      <td>DEAD</td>\n",
       "      <td>DEAD</td>\n",
       "      <td>...</td>\n",
       "      <td>NaN</td>\n",
       "      <td>NaN</td>\n",
       "      <td>NaN</td>\n",
       "      <td>NaN</td>\n",
       "      <td>NaN</td>\n",
       "      <td>NaN</td>\n",
       "      <td>NaN</td>\n",
       "      <td>NaN</td>\n",
       "      <td>NaN</td>\n",
       "      <td>NaN</td>\n",
       "    </tr>\n",
       "  </tbody>\n",
       "</table>\n",
       "<p>173 rows × 50 columns</p>\n",
       "</div>"
      ],
      "text/plain": [
       "         Treatment  Larvae ID       Hatch Date                 Date  \\\n",
       "0    FCT 5/11/2021          1      5/24/2021 L  2021-05-24 00:00:00   \n",
       "1    FCT 5/11/2021          2      5/24/2021 L  2021-05-24 00:00:00   \n",
       "2    FCT 5/11/2021          3      5/24/2021 L  2021-05-24 00:00:00   \n",
       "3    FCT 5/11/2021          4      5/24/2021 L  2021-05-24 00:00:00   \n",
       "4    FCT 5/11/2021          5      5/24/2021 L  2021-05-24 00:00:00   \n",
       "..             ...        ...              ...                  ...   \n",
       "168   CM 5/17/2021          4      5/25/2021 L  2021-05-25 00:00:00   \n",
       "169   CM 5/17/2021          5  5/25/2021 EMPTY                EMPTY   \n",
       "170   CM 5/17/2021          6      5/25/2021 L  2021-05-25 00:00:00   \n",
       "171   CM 5/17/2021          7      5/25/2021 L  2021-05-25 00:00:00   \n",
       "172   CM 5/17/2021          8      5/25/2021 L  2021-05-25 00:00:00   \n",
       "\n",
       "     Weight (mg) Hatch Date.1               Date.1 Weight (mg).1 Hatch Date.2  \\\n",
       "0            203   6/2/2021 L  2021-06-02 00:00:00           420   6/9/2021 L   \n",
       "1            114   6/2/2021 L  2021-06-02 00:00:00           381   6/9/2021 L   \n",
       "2            256   6/2/2021 L  2021-06-02 00:00:00           385   6/9/2021 L   \n",
       "3            145   6/2/2021 L  2021-06-02 00:00:00           424   6/9/2021 L   \n",
       "4            236   6/2/2021 L  2021-06-02 00:00:00           425   6/9/2021 L   \n",
       "..           ...          ...                  ...           ...          ...   \n",
       "168           85   6/1/2021 D  2021-06-01 00:00:00            94         DEAD   \n",
       "169            0        EMPTY                EMPTY         EMPTY        EMPTY   \n",
       "170          152   6/1/2021 L  2021-06-01 00:00:00           284   6/8/2021 D   \n",
       "171          192   6/1/2021 L  2021-06-01 00:00:00           210   6/8/2021 L   \n",
       "172          138   6/1/2021 D  2021-06-01 00:00:00           211         DEAD   \n",
       "\n",
       "                  Date.2  ... Weight (mg).12 Hatch Date.13 Date.13  \\\n",
       "0    2021-06-09 00:00:00  ...            NaN           NaN     NaN   \n",
       "1    2021-06-09 00:00:00  ...            NaN           NaN     NaN   \n",
       "2    2021-06-09 00:00:00  ...            NaN           NaN     NaN   \n",
       "3    2021-06-09 00:00:00  ...            NaN           NaN     NaN   \n",
       "4    2021-06-09 00:00:00  ...            NaN           NaN     NaN   \n",
       "..                   ...  ...            ...           ...     ...   \n",
       "168                 DEAD  ...            NaN           NaN     NaN   \n",
       "169                EMPTY  ...            NaN           NaN     NaN   \n",
       "170  2021-06-08 00:00:00  ...            NaN           NaN     NaN   \n",
       "171  2021-06-08 00:00:00  ...            NaN           NaN     NaN   \n",
       "172                 DEAD  ...            NaN           NaN     NaN   \n",
       "\n",
       "    Weight (mg).13 Hatch Date.14 Date.14 Weight (mg).14 Hatch Date.15 Date.15  \\\n",
       "0              NaN           NaN     NaN            NaN           NaN     NaN   \n",
       "1              NaN           NaN     NaN            NaN           NaN     NaN   \n",
       "2              NaN           NaN     NaN            NaN           NaN     NaN   \n",
       "3              NaN           NaN     NaN            NaN           NaN     NaN   \n",
       "4              NaN           NaN     NaN            NaN           NaN     NaN   \n",
       "..             ...           ...     ...            ...           ...     ...   \n",
       "168            NaN           NaN     NaN            NaN           NaN     NaN   \n",
       "169            NaN           NaN     NaN            NaN           NaN     NaN   \n",
       "170            NaN           NaN     NaN            NaN           NaN     NaN   \n",
       "171            NaN           NaN     NaN            NaN           NaN     NaN   \n",
       "172            NaN           NaN     NaN            NaN           NaN     NaN   \n",
       "\n",
       "    Weight (mg).15  \n",
       "0              NaN  \n",
       "1              NaN  \n",
       "2              NaN  \n",
       "3              NaN  \n",
       "4              NaN  \n",
       "..             ...  \n",
       "168            NaN  \n",
       "169            NaN  \n",
       "170            NaN  \n",
       "171            NaN  \n",
       "172            NaN  \n",
       "\n",
       "[173 rows x 50 columns]"
      ]
     },
     "execution_count": 22,
     "metadata": {},
     "output_type": "execute_result"
    }
   ],
   "source": [
    "df = pd.read_excel('Diet study Means AM edits.xlsx')\n",
    "df"
   ]
  },
  {
   "cell_type": "markdown",
   "id": "286fcef0-3b1b-480a-9ada-1a4fff097889",
   "metadata": {},
   "source": [
    "### Delete Unnecessary Columns"
   ]
  },
  {
   "cell_type": "code",
   "execution_count": 23,
   "id": "067cb3d2-322c-405e-bb7b-d89d5a865dca",
   "metadata": {},
   "outputs": [
    {
     "data": {
      "text/html": [
       "<div>\n",
       "<style scoped>\n",
       "    .dataframe tbody tr th:only-of-type {\n",
       "        vertical-align: middle;\n",
       "    }\n",
       "\n",
       "    .dataframe tbody tr th {\n",
       "        vertical-align: top;\n",
       "    }\n",
       "\n",
       "    .dataframe thead th {\n",
       "        text-align: right;\n",
       "    }\n",
       "</style>\n",
       "<table border=\"1\" class=\"dataframe\">\n",
       "  <thead>\n",
       "    <tr style=\"text-align: right;\">\n",
       "      <th></th>\n",
       "      <th>Treatment</th>\n",
       "      <th>Larvae ID</th>\n",
       "      <th>Hatch Date</th>\n",
       "      <th>Weight (mg)</th>\n",
       "      <th>Hatch Date.1</th>\n",
       "      <th>Weight (mg).1</th>\n",
       "      <th>Hatch Date.2</th>\n",
       "      <th>Weight (mg).2</th>\n",
       "      <th>Hatch Date.3</th>\n",
       "      <th>Weight (mg).3</th>\n",
       "      <th>...</th>\n",
       "      <th>Hatch Date.7</th>\n",
       "      <th>Weight (mg).7</th>\n",
       "      <th>Hatch Date.8</th>\n",
       "      <th>Weight (mg).8</th>\n",
       "      <th>Hatch Date.9</th>\n",
       "      <th>Weight (mg).9</th>\n",
       "      <th>Hatch Date.10</th>\n",
       "      <th>Weight (mg).10</th>\n",
       "      <th>Hatch Date.11</th>\n",
       "      <th>Weight (mg).11</th>\n",
       "    </tr>\n",
       "  </thead>\n",
       "  <tbody>\n",
       "    <tr>\n",
       "      <th>0</th>\n",
       "      <td>FCT 5/11/2021</td>\n",
       "      <td>1</td>\n",
       "      <td>5/24/2021 L</td>\n",
       "      <td>203</td>\n",
       "      <td>6/2/2021 L</td>\n",
       "      <td>420</td>\n",
       "      <td>6/9/2021 L</td>\n",
       "      <td>686</td>\n",
       "      <td>6/15/2021 L</td>\n",
       "      <td>1494</td>\n",
       "      <td>...</td>\n",
       "      <td>7/14/2021 L</td>\n",
       "      <td>2834</td>\n",
       "      <td>7/20/2021 L</td>\n",
       "      <td>3084</td>\n",
       "      <td>7/28/2021 L</td>\n",
       "      <td>3454</td>\n",
       "      <td>8/4/2021 L</td>\n",
       "      <td>5260</td>\n",
       "      <td>8/10/2021 L</td>\n",
       "      <td>5613</td>\n",
       "    </tr>\n",
       "    <tr>\n",
       "      <th>1</th>\n",
       "      <td>FCT 5/11/2021</td>\n",
       "      <td>2</td>\n",
       "      <td>5/24/2021 L</td>\n",
       "      <td>114</td>\n",
       "      <td>6/2/2021 L</td>\n",
       "      <td>381</td>\n",
       "      <td>6/9/2021 L</td>\n",
       "      <td>390</td>\n",
       "      <td>6/15/2021 L</td>\n",
       "      <td>1102</td>\n",
       "      <td>...</td>\n",
       "      <td>7/14/2021 L</td>\n",
       "      <td>1969</td>\n",
       "      <td>7/20/2021 L</td>\n",
       "      <td>1924</td>\n",
       "      <td>7/28/2021 L</td>\n",
       "      <td>1715</td>\n",
       "      <td>8/4/2021 L</td>\n",
       "      <td>2594</td>\n",
       "      <td>8/10/2021 L</td>\n",
       "      <td>3463</td>\n",
       "    </tr>\n",
       "    <tr>\n",
       "      <th>2</th>\n",
       "      <td>FCT 5/11/2021</td>\n",
       "      <td>3</td>\n",
       "      <td>5/24/2021 L</td>\n",
       "      <td>256</td>\n",
       "      <td>6/2/2021 L</td>\n",
       "      <td>385</td>\n",
       "      <td>6/9/2021 L</td>\n",
       "      <td>768</td>\n",
       "      <td>6/15/2021 L</td>\n",
       "      <td>1460</td>\n",
       "      <td>...</td>\n",
       "      <td>7/14/2021 L</td>\n",
       "      <td>3006</td>\n",
       "      <td>7/20/2021 L</td>\n",
       "      <td>3458</td>\n",
       "      <td>7/28/2021 L</td>\n",
       "      <td>3820</td>\n",
       "      <td>8/4/2021 L</td>\n",
       "      <td>5077</td>\n",
       "      <td>8/10/2021 L</td>\n",
       "      <td>5943</td>\n",
       "    </tr>\n",
       "    <tr>\n",
       "      <th>3</th>\n",
       "      <td>FCT 5/11/2021</td>\n",
       "      <td>4</td>\n",
       "      <td>5/24/2021 L</td>\n",
       "      <td>145</td>\n",
       "      <td>6/2/2021 L</td>\n",
       "      <td>424</td>\n",
       "      <td>6/9/2021 L</td>\n",
       "      <td>548</td>\n",
       "      <td>6/15/2021 L</td>\n",
       "      <td>1210</td>\n",
       "      <td>...</td>\n",
       "      <td>7/14/2021 L</td>\n",
       "      <td>3163</td>\n",
       "      <td>7/20/2021 L</td>\n",
       "      <td>3467</td>\n",
       "      <td>7/28/2021 L</td>\n",
       "      <td>3347</td>\n",
       "      <td>8/4/2021 L</td>\n",
       "      <td>5320</td>\n",
       "      <td>8/10/2021 L</td>\n",
       "      <td>6045</td>\n",
       "    </tr>\n",
       "    <tr>\n",
       "      <th>4</th>\n",
       "      <td>FCT 5/11/2021</td>\n",
       "      <td>5</td>\n",
       "      <td>5/24/2021 L</td>\n",
       "      <td>236</td>\n",
       "      <td>6/2/2021 L</td>\n",
       "      <td>425</td>\n",
       "      <td>6/9/2021 L</td>\n",
       "      <td>778</td>\n",
       "      <td>6/15/2021 L</td>\n",
       "      <td>1442</td>\n",
       "      <td>...</td>\n",
       "      <td>7/14/2021 L</td>\n",
       "      <td>2401</td>\n",
       "      <td>7/20/2021 L</td>\n",
       "      <td>2702</td>\n",
       "      <td>7/28/2021 L</td>\n",
       "      <td>2688</td>\n",
       "      <td>8/4/2021 L</td>\n",
       "      <td>4542</td>\n",
       "      <td>8/10/2021 L</td>\n",
       "      <td>5572</td>\n",
       "    </tr>\n",
       "    <tr>\n",
       "      <th>...</th>\n",
       "      <td>...</td>\n",
       "      <td>...</td>\n",
       "      <td>...</td>\n",
       "      <td>...</td>\n",
       "      <td>...</td>\n",
       "      <td>...</td>\n",
       "      <td>...</td>\n",
       "      <td>...</td>\n",
       "      <td>...</td>\n",
       "      <td>...</td>\n",
       "      <td>...</td>\n",
       "      <td>...</td>\n",
       "      <td>...</td>\n",
       "      <td>...</td>\n",
       "      <td>...</td>\n",
       "      <td>...</td>\n",
       "      <td>...</td>\n",
       "      <td>...</td>\n",
       "      <td>...</td>\n",
       "      <td>...</td>\n",
       "      <td>...</td>\n",
       "    </tr>\n",
       "    <tr>\n",
       "      <th>168</th>\n",
       "      <td>CM 5/17/2021</td>\n",
       "      <td>4</td>\n",
       "      <td>5/25/2021 L</td>\n",
       "      <td>85</td>\n",
       "      <td>6/1/2021 D</td>\n",
       "      <td>94</td>\n",
       "      <td>DEAD</td>\n",
       "      <td>DEAD</td>\n",
       "      <td>DEAD</td>\n",
       "      <td>DEAD</td>\n",
       "      <td>...</td>\n",
       "      <td>DEAD</td>\n",
       "      <td>DEAD</td>\n",
       "      <td>DEAD</td>\n",
       "      <td>DEAD</td>\n",
       "      <td>DEAD</td>\n",
       "      <td>DEAD</td>\n",
       "      <td>DEAD</td>\n",
       "      <td>DEAD</td>\n",
       "      <td>DEAD</td>\n",
       "      <td>DEAD</td>\n",
       "    </tr>\n",
       "    <tr>\n",
       "      <th>169</th>\n",
       "      <td>CM 5/17/2021</td>\n",
       "      <td>5</td>\n",
       "      <td>5/25/2021 EMPTY</td>\n",
       "      <td>0</td>\n",
       "      <td>EMPTY</td>\n",
       "      <td>EMPTY</td>\n",
       "      <td>EMPTY</td>\n",
       "      <td>EMPTY</td>\n",
       "      <td>EMPTY</td>\n",
       "      <td>EMPTY</td>\n",
       "      <td>...</td>\n",
       "      <td>EMPTY</td>\n",
       "      <td>EMPTY</td>\n",
       "      <td>EMPTY</td>\n",
       "      <td>EMPTY</td>\n",
       "      <td>EMPTY</td>\n",
       "      <td>EMPTY</td>\n",
       "      <td>EMPTY</td>\n",
       "      <td>EMPTY</td>\n",
       "      <td>EMPTY</td>\n",
       "      <td>EMPTY</td>\n",
       "    </tr>\n",
       "    <tr>\n",
       "      <th>170</th>\n",
       "      <td>CM 5/17/2021</td>\n",
       "      <td>6</td>\n",
       "      <td>5/25/2021 L</td>\n",
       "      <td>152</td>\n",
       "      <td>6/1/2021 L</td>\n",
       "      <td>284</td>\n",
       "      <td>6/8/2021 D</td>\n",
       "      <td>334</td>\n",
       "      <td>DEAD</td>\n",
       "      <td>DEAD</td>\n",
       "      <td>...</td>\n",
       "      <td>DEAD</td>\n",
       "      <td>DEAD</td>\n",
       "      <td>DEAD</td>\n",
       "      <td>DEAD</td>\n",
       "      <td>DEAD</td>\n",
       "      <td>DEAD</td>\n",
       "      <td>DEAD</td>\n",
       "      <td>DEAD</td>\n",
       "      <td>DEAD</td>\n",
       "      <td>DEAD</td>\n",
       "    </tr>\n",
       "    <tr>\n",
       "      <th>171</th>\n",
       "      <td>CM 5/17/2021</td>\n",
       "      <td>7</td>\n",
       "      <td>5/25/2021 L</td>\n",
       "      <td>192</td>\n",
       "      <td>6/1/2021 L</td>\n",
       "      <td>210</td>\n",
       "      <td>6/8/2021 L</td>\n",
       "      <td>188</td>\n",
       "      <td>6/15/2021 D</td>\n",
       "      <td>34</td>\n",
       "      <td>...</td>\n",
       "      <td>DEAD</td>\n",
       "      <td>DEAD</td>\n",
       "      <td>DEAD</td>\n",
       "      <td>DEAD</td>\n",
       "      <td>DEAD</td>\n",
       "      <td>DEAD</td>\n",
       "      <td>DEAD</td>\n",
       "      <td>DEAD</td>\n",
       "      <td>DEAD</td>\n",
       "      <td>DEAD</td>\n",
       "    </tr>\n",
       "    <tr>\n",
       "      <th>172</th>\n",
       "      <td>CM 5/17/2021</td>\n",
       "      <td>8</td>\n",
       "      <td>5/25/2021 L</td>\n",
       "      <td>138</td>\n",
       "      <td>6/1/2021 D</td>\n",
       "      <td>211</td>\n",
       "      <td>DEAD</td>\n",
       "      <td>DEAD</td>\n",
       "      <td>DEAD</td>\n",
       "      <td>DEAD</td>\n",
       "      <td>...</td>\n",
       "      <td>DEAD</td>\n",
       "      <td>DEAD</td>\n",
       "      <td>DEAD</td>\n",
       "      <td>DEAD</td>\n",
       "      <td>DEAD</td>\n",
       "      <td>DEAD</td>\n",
       "      <td>DEAD</td>\n",
       "      <td>DEAD</td>\n",
       "      <td>DEAD</td>\n",
       "      <td>DEAD</td>\n",
       "    </tr>\n",
       "  </tbody>\n",
       "</table>\n",
       "<p>173 rows × 26 columns</p>\n",
       "</div>"
      ],
      "text/plain": [
       "         Treatment  Larvae ID       Hatch Date  Weight (mg) Hatch Date.1  \\\n",
       "0    FCT 5/11/2021          1      5/24/2021 L          203   6/2/2021 L   \n",
       "1    FCT 5/11/2021          2      5/24/2021 L          114   6/2/2021 L   \n",
       "2    FCT 5/11/2021          3      5/24/2021 L          256   6/2/2021 L   \n",
       "3    FCT 5/11/2021          4      5/24/2021 L          145   6/2/2021 L   \n",
       "4    FCT 5/11/2021          5      5/24/2021 L          236   6/2/2021 L   \n",
       "..             ...        ...              ...          ...          ...   \n",
       "168   CM 5/17/2021          4      5/25/2021 L           85   6/1/2021 D   \n",
       "169   CM 5/17/2021          5  5/25/2021 EMPTY            0        EMPTY   \n",
       "170   CM 5/17/2021          6      5/25/2021 L          152   6/1/2021 L   \n",
       "171   CM 5/17/2021          7      5/25/2021 L          192   6/1/2021 L   \n",
       "172   CM 5/17/2021          8      5/25/2021 L          138   6/1/2021 D   \n",
       "\n",
       "    Weight (mg).1 Hatch Date.2 Weight (mg).2 Hatch Date.3 Weight (mg).3  ...  \\\n",
       "0             420   6/9/2021 L           686  6/15/2021 L          1494  ...   \n",
       "1             381   6/9/2021 L           390  6/15/2021 L          1102  ...   \n",
       "2             385   6/9/2021 L           768  6/15/2021 L          1460  ...   \n",
       "3             424   6/9/2021 L           548  6/15/2021 L          1210  ...   \n",
       "4             425   6/9/2021 L           778  6/15/2021 L          1442  ...   \n",
       "..            ...          ...           ...          ...           ...  ...   \n",
       "168            94         DEAD          DEAD         DEAD          DEAD  ...   \n",
       "169         EMPTY        EMPTY         EMPTY        EMPTY         EMPTY  ...   \n",
       "170           284   6/8/2021 D           334         DEAD          DEAD  ...   \n",
       "171           210   6/8/2021 L           188  6/15/2021 D            34  ...   \n",
       "172           211         DEAD          DEAD         DEAD          DEAD  ...   \n",
       "\n",
       "    Hatch Date.7 Weight (mg).7 Hatch Date.8 Weight (mg).8 Hatch Date.9  \\\n",
       "0    7/14/2021 L          2834  7/20/2021 L          3084  7/28/2021 L   \n",
       "1    7/14/2021 L          1969  7/20/2021 L          1924  7/28/2021 L   \n",
       "2    7/14/2021 L          3006  7/20/2021 L          3458  7/28/2021 L   \n",
       "3    7/14/2021 L          3163  7/20/2021 L          3467  7/28/2021 L   \n",
       "4    7/14/2021 L          2401  7/20/2021 L          2702  7/28/2021 L   \n",
       "..           ...           ...          ...           ...          ...   \n",
       "168         DEAD          DEAD         DEAD          DEAD         DEAD   \n",
       "169        EMPTY         EMPTY        EMPTY         EMPTY        EMPTY   \n",
       "170         DEAD          DEAD         DEAD          DEAD         DEAD   \n",
       "171         DEAD          DEAD         DEAD          DEAD         DEAD   \n",
       "172         DEAD          DEAD         DEAD          DEAD         DEAD   \n",
       "\n",
       "    Weight (mg).9 Hatch Date.10 Weight (mg).10 Hatch Date.11 Weight (mg).11  \n",
       "0            3454    8/4/2021 L           5260   8/10/2021 L           5613  \n",
       "1            1715    8/4/2021 L           2594   8/10/2021 L           3463  \n",
       "2            3820    8/4/2021 L           5077   8/10/2021 L           5943  \n",
       "3            3347    8/4/2021 L           5320   8/10/2021 L           6045  \n",
       "4            2688    8/4/2021 L           4542   8/10/2021 L           5572  \n",
       "..            ...           ...            ...           ...            ...  \n",
       "168          DEAD          DEAD           DEAD          DEAD           DEAD  \n",
       "169         EMPTY         EMPTY          EMPTY         EMPTY          EMPTY  \n",
       "170          DEAD          DEAD           DEAD          DEAD           DEAD  \n",
       "171          DEAD          DEAD           DEAD          DEAD           DEAD  \n",
       "172          DEAD          DEAD           DEAD          DEAD           DEAD  \n",
       "\n",
       "[173 rows x 26 columns]"
      ]
     },
     "execution_count": 23,
     "metadata": {},
     "output_type": "execute_result"
    }
   ],
   "source": [
    "# Remove columns with \"Date\" heading because the data are redundant\n",
    "\n",
    "cols = df.columns\n",
    "for col in cols:\n",
    "    if col.startswith('Date'):\n",
    "        df.drop(labels=col, axis='columns', inplace=True)\n",
    "\n",
    "# Drop all columns which donot contain data\n",
    "\n",
    "df.dropna(how='all', axis='columns', inplace=True)\n",
    "\n",
    "df"
   ]
  },
  {
   "cell_type": "markdown",
   "id": "ee4e55e8-5e4b-4476-a0fc-c33812f98673",
   "metadata": {},
   "source": [
    "### Normalize Data"
   ]
  },
  {
   "cell_type": "code",
   "execution_count": 24,
   "id": "ebe2b098-3aa3-4bc1-a57a-a51d66ba9699",
   "metadata": {},
   "outputs": [
    {
     "data": {
      "text/plain": [
       "Index(['Treatment', 'Larvae ID', 'Hatch Date', 'Weight (mg)', 'Hatch Date.1',\n",
       "       'Weight (mg).1', 'Hatch Date.2', 'Weight (mg).2', 'Hatch Date.3',\n",
       "       'Weight (mg).3', 'Hatch Date.4', 'Weight (mg).4', 'Hatch Date.5',\n",
       "       'Weight (mg).5', 'Hatch Date.6', 'Weight (mg).6', 'Hatch Date.7',\n",
       "       'Weight (mg).7', 'Hatch Date.8', 'Weight (mg).8', 'Hatch Date.9',\n",
       "       'Weight (mg).9', 'Hatch Date.10', 'Weight (mg).10', 'Hatch Date.11',\n",
       "       'Weight (mg).11'],\n",
       "      dtype='object')"
      ]
     },
     "execution_count": 24,
     "metadata": {},
     "output_type": "execute_result"
    }
   ],
   "source": [
    "df.columns"
   ]
  },
  {
   "cell_type": "code",
   "execution_count": 25,
   "id": "adcb6fd8-7fe7-4d2b-82c6-d05187fc4f1c",
   "metadata": {},
   "outputs": [
    {
     "data": {
      "text/html": [
       "<div>\n",
       "<style scoped>\n",
       "    .dataframe tbody tr th:only-of-type {\n",
       "        vertical-align: middle;\n",
       "    }\n",
       "\n",
       "    .dataframe tbody tr th {\n",
       "        vertical-align: top;\n",
       "    }\n",
       "\n",
       "    .dataframe thead th {\n",
       "        text-align: right;\n",
       "    }\n",
       "</style>\n",
       "<table border=\"1\" class=\"dataframe\">\n",
       "  <thead>\n",
       "    <tr style=\"text-align: right;\">\n",
       "      <th></th>\n",
       "      <th>treatment</th>\n",
       "      <th>larva_id</th>\n",
       "      <th>hatch_date</th>\n",
       "      <th>mass</th>\n",
       "    </tr>\n",
       "  </thead>\n",
       "  <tbody>\n",
       "    <tr>\n",
       "      <th>0</th>\n",
       "      <td>FCT 5/11/2021</td>\n",
       "      <td>1</td>\n",
       "      <td>5/24/2021 L</td>\n",
       "      <td>203</td>\n",
       "    </tr>\n",
       "    <tr>\n",
       "      <th>1</th>\n",
       "      <td>FCT 5/11/2021</td>\n",
       "      <td>2</td>\n",
       "      <td>5/24/2021 L</td>\n",
       "      <td>114</td>\n",
       "    </tr>\n",
       "    <tr>\n",
       "      <th>2</th>\n",
       "      <td>FCT 5/11/2021</td>\n",
       "      <td>3</td>\n",
       "      <td>5/24/2021 L</td>\n",
       "      <td>256</td>\n",
       "    </tr>\n",
       "    <tr>\n",
       "      <th>3</th>\n",
       "      <td>FCT 5/11/2021</td>\n",
       "      <td>4</td>\n",
       "      <td>5/24/2021 L</td>\n",
       "      <td>145</td>\n",
       "    </tr>\n",
       "    <tr>\n",
       "      <th>4</th>\n",
       "      <td>FCT 5/11/2021</td>\n",
       "      <td>5</td>\n",
       "      <td>5/24/2021 L</td>\n",
       "      <td>236</td>\n",
       "    </tr>\n",
       "    <tr>\n",
       "      <th>...</th>\n",
       "      <td>...</td>\n",
       "      <td>...</td>\n",
       "      <td>...</td>\n",
       "      <td>...</td>\n",
       "    </tr>\n",
       "    <tr>\n",
       "      <th>2071</th>\n",
       "      <td>CM 5/17/2021</td>\n",
       "      <td>4</td>\n",
       "      <td>DEAD</td>\n",
       "      <td>DEAD</td>\n",
       "    </tr>\n",
       "    <tr>\n",
       "      <th>2072</th>\n",
       "      <td>CM 5/17/2021</td>\n",
       "      <td>5</td>\n",
       "      <td>EMPTY</td>\n",
       "      <td>EMPTY</td>\n",
       "    </tr>\n",
       "    <tr>\n",
       "      <th>2073</th>\n",
       "      <td>CM 5/17/2021</td>\n",
       "      <td>6</td>\n",
       "      <td>DEAD</td>\n",
       "      <td>DEAD</td>\n",
       "    </tr>\n",
       "    <tr>\n",
       "      <th>2074</th>\n",
       "      <td>CM 5/17/2021</td>\n",
       "      <td>7</td>\n",
       "      <td>DEAD</td>\n",
       "      <td>DEAD</td>\n",
       "    </tr>\n",
       "    <tr>\n",
       "      <th>2075</th>\n",
       "      <td>CM 5/17/2021</td>\n",
       "      <td>8</td>\n",
       "      <td>DEAD</td>\n",
       "      <td>DEAD</td>\n",
       "    </tr>\n",
       "  </tbody>\n",
       "</table>\n",
       "<p>2076 rows × 4 columns</p>\n",
       "</div>"
      ],
      "text/plain": [
       "          treatment  larva_id   hatch_date   mass\n",
       "0     FCT 5/11/2021         1  5/24/2021 L    203\n",
       "1     FCT 5/11/2021         2  5/24/2021 L    114\n",
       "2     FCT 5/11/2021         3  5/24/2021 L    256\n",
       "3     FCT 5/11/2021         4  5/24/2021 L    145\n",
       "4     FCT 5/11/2021         5  5/24/2021 L    236\n",
       "...             ...       ...          ...    ...\n",
       "2071   CM 5/17/2021         4         DEAD   DEAD\n",
       "2072   CM 5/17/2021         5        EMPTY  EMPTY\n",
       "2073   CM 5/17/2021         6         DEAD   DEAD\n",
       "2074   CM 5/17/2021         7         DEAD   DEAD\n",
       "2075   CM 5/17/2021         8         DEAD   DEAD\n",
       "\n",
       "[2076 rows x 4 columns]"
      ]
     },
     "execution_count": 25,
     "metadata": {},
     "output_type": "execute_result"
    }
   ],
   "source": [
    "# Create a new dataframe \"data\" for first \"Hatch Date\", \"Weight (mg)\" columns\n",
    "\n",
    "mylist = ['Treatment', 'Larvae ID', 'Hatch Date', 'Weight (mg)']\n",
    "data = df[mylist]\n",
    "data.columns = ['treatment', 'larva_id', 'hatch_date', 'mass']\n",
    "\n",
    "# Append rows containing values from subsequent \"Hatch Date.*\", \"Weight (mg).*\" columns\n",
    "\n",
    "for i in range(1,12):\n",
    "    mylist = ['Treatment', 'Larvae ID', f'Hatch Date.{i}', f'Weight (mg).{i}']\n",
    "    df_temp = df[mylist]\n",
    "    df_temp.columns = ['treatment', 'larva_id', 'hatch_date', 'mass']\n",
    "    data = data.append(df_temp, ignore_index=True)\n",
    "\n",
    "data"
   ]
  },
  {
   "cell_type": "code",
   "execution_count": 26,
   "id": "e412aef7",
   "metadata": {},
   "outputs": [
    {
     "data": {
      "text/html": [
       "<div>\n",
       "<style scoped>\n",
       "    .dataframe tbody tr th:only-of-type {\n",
       "        vertical-align: middle;\n",
       "    }\n",
       "\n",
       "    .dataframe tbody tr th {\n",
       "        vertical-align: top;\n",
       "    }\n",
       "\n",
       "    .dataframe thead th {\n",
       "        text-align: right;\n",
       "    }\n",
       "</style>\n",
       "<table border=\"1\" class=\"dataframe\">\n",
       "  <thead>\n",
       "    <tr style=\"text-align: right;\">\n",
       "      <th></th>\n",
       "      <th>unique_larva_id</th>\n",
       "      <th>treatment</th>\n",
       "      <th>observation_date</th>\n",
       "      <th>status</th>\n",
       "      <th>mass</th>\n",
       "    </tr>\n",
       "  </thead>\n",
       "  <tbody>\n",
       "    <tr>\n",
       "      <th>2203</th>\n",
       "      <td>CM 5/11/2021 1</td>\n",
       "      <td>manure</td>\n",
       "      <td>5/11/2021</td>\n",
       "      <td>egg</td>\n",
       "      <td>10</td>\n",
       "    </tr>\n",
       "    <tr>\n",
       "      <th>127</th>\n",
       "      <td>CM 5/11/2021 1</td>\n",
       "      <td>manure</td>\n",
       "      <td>5/25/2021</td>\n",
       "      <td>larva</td>\n",
       "      <td>186</td>\n",
       "    </tr>\n",
       "    <tr>\n",
       "      <th>300</th>\n",
       "      <td>CM 5/11/2021 1</td>\n",
       "      <td>manure</td>\n",
       "      <td>6/1/2021</td>\n",
       "      <td>larva</td>\n",
       "      <td>381</td>\n",
       "    </tr>\n",
       "    <tr>\n",
       "      <th>646</th>\n",
       "      <td>CM 5/11/2021 1</td>\n",
       "      <td>manure</td>\n",
       "      <td>6/15/2021</td>\n",
       "      <td>larva</td>\n",
       "      <td>1307</td>\n",
       "    </tr>\n",
       "    <tr>\n",
       "      <th>819</th>\n",
       "      <td>CM 5/11/2021 1</td>\n",
       "      <td>manure</td>\n",
       "      <td>6/22/2021</td>\n",
       "      <td>larva</td>\n",
       "      <td>1548</td>\n",
       "    </tr>\n",
       "    <tr>\n",
       "      <th>...</th>\n",
       "      <td>...</td>\n",
       "      <td>...</td>\n",
       "      <td>...</td>\n",
       "      <td>...</td>\n",
       "      <td>...</td>\n",
       "    </tr>\n",
       "    <tr>\n",
       "      <th>84</th>\n",
       "      <td>SM 5/17/2021 8</td>\n",
       "      <td>peat moss</td>\n",
       "      <td>5/25/2021</td>\n",
       "      <td>larva</td>\n",
       "      <td>32</td>\n",
       "    </tr>\n",
       "    <tr>\n",
       "      <th>257</th>\n",
       "      <td>SM 5/17/2021 8</td>\n",
       "      <td>peat moss</td>\n",
       "      <td>6/2/2021</td>\n",
       "      <td>dead</td>\n",
       "      <td>37</td>\n",
       "    </tr>\n",
       "    <tr>\n",
       "      <th>2161</th>\n",
       "      <td>SM 5/17/2021 9</td>\n",
       "      <td>peat moss</td>\n",
       "      <td>5/17/2021</td>\n",
       "      <td>egg</td>\n",
       "      <td>10</td>\n",
       "    </tr>\n",
       "    <tr>\n",
       "      <th>85</th>\n",
       "      <td>SM 5/17/2021 9</td>\n",
       "      <td>peat moss</td>\n",
       "      <td>5/25/2021</td>\n",
       "      <td>larva</td>\n",
       "      <td>45</td>\n",
       "    </tr>\n",
       "    <tr>\n",
       "      <th>258</th>\n",
       "      <td>SM 5/17/2021 9</td>\n",
       "      <td>peat moss</td>\n",
       "      <td>6/2/2021</td>\n",
       "      <td>dead</td>\n",
       "      <td>21</td>\n",
       "    </tr>\n",
       "  </tbody>\n",
       "</table>\n",
       "<p>1219 rows × 5 columns</p>\n",
       "</div>"
      ],
      "text/plain": [
       "     unique_larva_id  treatment observation_date status  mass\n",
       "2203  CM 5/11/2021 1     manure        5/11/2021    egg    10\n",
       "127   CM 5/11/2021 1     manure        5/25/2021  larva   186\n",
       "300   CM 5/11/2021 1     manure         6/1/2021  larva   381\n",
       "646   CM 5/11/2021 1     manure        6/15/2021  larva  1307\n",
       "819   CM 5/11/2021 1     manure        6/22/2021  larva  1548\n",
       "...              ...        ...              ...    ...   ...\n",
       "84    SM 5/17/2021 8  peat moss        5/25/2021  larva    32\n",
       "257   SM 5/17/2021 8  peat moss         6/2/2021   dead    37\n",
       "2161  SM 5/17/2021 9  peat moss        5/17/2021    egg    10\n",
       "85    SM 5/17/2021 9  peat moss        5/25/2021  larva    45\n",
       "258   SM 5/17/2021 9  peat moss         6/2/2021   dead    21\n",
       "\n",
       "[1219 rows x 5 columns]"
      ]
     },
     "execution_count": 26,
     "metadata": {},
     "output_type": "execute_result"
    }
   ],
   "source": [
    "# Split hatch_date column\n",
    "\n",
    "data['observation_date'] = data.apply(lambda x : x['hatch_date'].split(\" \")[0], axis='columns')\n",
    "data['status'] = data.apply(lambda x : x['hatch_date'][-1], axis='columns')\n",
    "data.drop('hatch_date', axis='columns', inplace=True)\n",
    "data['status'].replace({'L':'larva', 'D':'dead', 'Y':'empty', 'G':'egg'}, inplace=True)\n",
    "\n",
    "# Create 'unique_larva_id' column\n",
    "\n",
    "data['unique_larva_id'] = data.apply(lambda x: f\"{x['treatment']} {x['larva_id']}\", axis='columns')\n",
    "data.drop('larva_id', axis='columns', inplace=True)\n",
    "\n",
    "# Recode 'treatment'\n",
    "\n",
    "data['treatment'] = data.apply(lambda x: x['treatment'].split(' ')[0], axis='columns')\n",
    "data['treatment'].replace({'FCT':'frass', 'CM':'manure', 'SM':'peat moss', 'PF':'fecal pellets'}, inplace=True)\n",
    "\n",
    "# Add a new record for setup date of each insect\n",
    "\n",
    "new_rows = []\n",
    "for unique_larva_id in data.unique_larva_id.unique():\n",
    "    new_rows.append({'unique_larva_id':unique_larva_id, \n",
    "                     'observation_date': unique_larva_id.split(' ')[1],\n",
    "                     'treatment': unique_larva_id.split(' ')[0],\n",
    "                     'status':'egg', 'mass':10})\n",
    "data = data.append(new_rows, ignore_index=True, sort=False)\n",
    "data['treatment'].replace({'FCT':'frass', 'CM':'manure', 'SM':'peat moss', 'PF':'fecal pellets'}, inplace=True)\n",
    "\n",
    "# Delete rows where mass equals EMPTY or DEAD\n",
    "\n",
    "data = data[data['mass'] != 'EMPTY']\n",
    "data = data[data['mass'] != 'DEAD']\n",
    "\n",
    "# sort rows and reorder columns\n",
    "\n",
    "data = data.sort_values(by=['unique_larva_id', 'observation_date'])\n",
    "data = data[['unique_larva_id','treatment','observation_date','status','mass']]\n",
    "\n",
    "# write CSV file\n",
    "\n",
    "data.to_csv('data.csv', index=False)\n",
    "\n",
    "data"
   ]
  },
  {
   "cell_type": "code",
   "execution_count": 27,
   "id": "35d08632",
   "metadata": {},
   "outputs": [],
   "source": [
    "# data['egg_hatched'] = data.status.isin(['larva','dead'])\n",
    "# data['larva_survived'] = data.status=='larva'\n",
    "# data"
   ]
  },
  {
   "cell_type": "markdown",
   "id": "b10ad476",
   "metadata": {},
   "source": [
    "## Summarize data"
   ]
  },
  {
   "cell_type": "code",
   "execution_count": 28,
   "id": "e5081925",
   "metadata": {},
   "outputs": [
    {
     "name": "stderr",
     "output_type": "stream",
     "text": [
      "<ipython-input-28-caff02a25155>:5: SettingWithCopyWarning:\n",
      "\n",
      "\n",
      "A value is trying to be set on a copy of a slice from a DataFrame.\n",
      "Try using .loc[row_indexer,col_indexer] = value instead\n",
      "\n",
      "See the caveats in the documentation: http://pandas.pydata.org/pandas-docs/stable/user_guide/indexing.html#returning-a-view-versus-a-copy\n",
      "\n",
      "<ipython-input-28-caff02a25155>:6: SettingWithCopyWarning:\n",
      "\n",
      "\n",
      "A value is trying to be set on a copy of a slice from a DataFrame.\n",
      "Try using .loc[row_indexer,col_indexer] = value instead\n",
      "\n",
      "See the caveats in the documentation: http://pandas.pydata.org/pandas-docs/stable/user_guide/indexing.html#returning-a-view-versus-a-copy\n",
      "\n"
     ]
    },
    {
     "data": {
      "text/html": [
       "<div>\n",
       "<style scoped>\n",
       "    .dataframe tbody tr th:only-of-type {\n",
       "        vertical-align: middle;\n",
       "    }\n",
       "\n",
       "    .dataframe tbody tr th {\n",
       "        vertical-align: top;\n",
       "    }\n",
       "\n",
       "    .dataframe thead th {\n",
       "        text-align: right;\n",
       "    }\n",
       "</style>\n",
       "<table border=\"1\" class=\"dataframe\">\n",
       "  <thead>\n",
       "    <tr style=\"text-align: right;\">\n",
       "      <th></th>\n",
       "      <th>unique_larva_id</th>\n",
       "      <th>treatment</th>\n",
       "      <th>observation_date</th>\n",
       "      <th>status</th>\n",
       "      <th>mass</th>\n",
       "      <th>egg_hatched</th>\n",
       "      <th>larva_survived</th>\n",
       "    </tr>\n",
       "  </thead>\n",
       "  <tbody>\n",
       "    <tr>\n",
       "      <th>1857</th>\n",
       "      <td>CM 5/11/2021 1</td>\n",
       "      <td>manure</td>\n",
       "      <td>8/4/2021</td>\n",
       "      <td>larva</td>\n",
       "      <td>7335</td>\n",
       "      <td>True</td>\n",
       "      <td>True</td>\n",
       "    </tr>\n",
       "    <tr>\n",
       "      <th>1166</th>\n",
       "      <td>CM 5/11/2021 2</td>\n",
       "      <td>manure</td>\n",
       "      <td>7/6/2021</td>\n",
       "      <td>dead</td>\n",
       "      <td>43</td>\n",
       "      <td>True</td>\n",
       "      <td>False</td>\n",
       "    </tr>\n",
       "    <tr>\n",
       "      <th>475</th>\n",
       "      <td>CM 5/11/2021 3</td>\n",
       "      <td>manure</td>\n",
       "      <td>6/8/2021</td>\n",
       "      <td>larva</td>\n",
       "      <td>181</td>\n",
       "      <td>True</td>\n",
       "      <td>True</td>\n",
       "    </tr>\n",
       "    <tr>\n",
       "      <th>476</th>\n",
       "      <td>CM 5/11/2021 4</td>\n",
       "      <td>manure</td>\n",
       "      <td>6/8/2021</td>\n",
       "      <td>larva</td>\n",
       "      <td>366</td>\n",
       "      <td>True</td>\n",
       "      <td>True</td>\n",
       "    </tr>\n",
       "    <tr>\n",
       "      <th>1861</th>\n",
       "      <td>CM 5/11/2021 5</td>\n",
       "      <td>manure</td>\n",
       "      <td>8/4/2021</td>\n",
       "      <td>larva</td>\n",
       "      <td>6163</td>\n",
       "      <td>True</td>\n",
       "      <td>True</td>\n",
       "    </tr>\n",
       "    <tr>\n",
       "      <th>...</th>\n",
       "      <td>...</td>\n",
       "      <td>...</td>\n",
       "      <td>...</td>\n",
       "      <td>...</td>\n",
       "      <td>...</td>\n",
       "      <td>...</td>\n",
       "      <td>...</td>\n",
       "    </tr>\n",
       "    <tr>\n",
       "      <th>1984</th>\n",
       "      <td>SM 5/17/2021 5</td>\n",
       "      <td>peat moss</td>\n",
       "      <td>EGG</td>\n",
       "      <td>egg</td>\n",
       "      <td>EGG</td>\n",
       "      <td>False</td>\n",
       "      <td>False</td>\n",
       "    </tr>\n",
       "    <tr>\n",
       "      <th>1985</th>\n",
       "      <td>SM 5/17/2021 6</td>\n",
       "      <td>peat moss</td>\n",
       "      <td>EGG</td>\n",
       "      <td>egg</td>\n",
       "      <td>EGG</td>\n",
       "      <td>False</td>\n",
       "      <td>False</td>\n",
       "    </tr>\n",
       "    <tr>\n",
       "      <th>256</th>\n",
       "      <td>SM 5/17/2021 7</td>\n",
       "      <td>peat moss</td>\n",
       "      <td>6/2/2021</td>\n",
       "      <td>dead</td>\n",
       "      <td>31</td>\n",
       "      <td>True</td>\n",
       "      <td>False</td>\n",
       "    </tr>\n",
       "    <tr>\n",
       "      <th>257</th>\n",
       "      <td>SM 5/17/2021 8</td>\n",
       "      <td>peat moss</td>\n",
       "      <td>6/2/2021</td>\n",
       "      <td>dead</td>\n",
       "      <td>37</td>\n",
       "      <td>True</td>\n",
       "      <td>False</td>\n",
       "    </tr>\n",
       "    <tr>\n",
       "      <th>258</th>\n",
       "      <td>SM 5/17/2021 9</td>\n",
       "      <td>peat moss</td>\n",
       "      <td>6/2/2021</td>\n",
       "      <td>dead</td>\n",
       "      <td>21</td>\n",
       "      <td>True</td>\n",
       "      <td>False</td>\n",
       "    </tr>\n",
       "  </tbody>\n",
       "</table>\n",
       "<p>173 rows × 7 columns</p>\n",
       "</div>"
      ],
      "text/plain": [
       "     unique_larva_id  treatment observation_date status  mass  egg_hatched  \\\n",
       "1857  CM 5/11/2021 1     manure         8/4/2021  larva  7335         True   \n",
       "1166  CM 5/11/2021 2     manure         7/6/2021   dead    43         True   \n",
       "475   CM 5/11/2021 3     manure         6/8/2021  larva   181         True   \n",
       "476   CM 5/11/2021 4     manure         6/8/2021  larva   366         True   \n",
       "1861  CM 5/11/2021 5     manure         8/4/2021  larva  6163         True   \n",
       "...              ...        ...              ...    ...   ...          ...   \n",
       "1984  SM 5/17/2021 5  peat moss              EGG    egg   EGG        False   \n",
       "1985  SM 5/17/2021 6  peat moss              EGG    egg   EGG        False   \n",
       "256   SM 5/17/2021 7  peat moss         6/2/2021   dead    31         True   \n",
       "257   SM 5/17/2021 8  peat moss         6/2/2021   dead    37         True   \n",
       "258   SM 5/17/2021 9  peat moss         6/2/2021   dead    21         True   \n",
       "\n",
       "      larva_survived  \n",
       "1857            True  \n",
       "1166           False  \n",
       "475             True  \n",
       "476             True  \n",
       "1861            True  \n",
       "...              ...  \n",
       "1984           False  \n",
       "1985           False  \n",
       "256            False  \n",
       "257            False  \n",
       "258            False  \n",
       "\n",
       "[173 rows x 7 columns]"
      ]
     },
     "execution_count": 28,
     "metadata": {},
     "output_type": "execute_result"
    }
   ],
   "source": [
    "# get the last observation record for each larva\n",
    "\n",
    "df_endpoint = data.groupby('unique_larva_id').tail(1)\n",
    "df_endpoint.sort_values(['status', 'unique_larva_id'])\n",
    "df_endpoint['egg_hatched'] = df_endpoint.status.isin(['larva','dead'])\n",
    "df_endpoint['larva_survived'] = df_endpoint.status=='larva'\n",
    "df_endpoint"
   ]
  },
  {
   "cell_type": "markdown",
   "id": "e0a28e2e",
   "metadata": {},
   "source": [
    "## Statistics"
   ]
  },
  {
   "cell_type": "markdown",
   "id": "997d8a4d",
   "metadata": {},
   "source": [
    "### Egg hatch"
   ]
  },
  {
   "cell_type": "code",
   "execution_count": 29,
   "id": "7ea60e31",
   "metadata": {},
   "outputs": [
    {
     "data": {
      "text/html": [
       "<div>\n",
       "<style scoped>\n",
       "    .dataframe tbody tr th:only-of-type {\n",
       "        vertical-align: middle;\n",
       "    }\n",
       "\n",
       "    .dataframe tbody tr th {\n",
       "        vertical-align: top;\n",
       "    }\n",
       "\n",
       "    .dataframe thead th {\n",
       "        text-align: right;\n",
       "    }\n",
       "</style>\n",
       "<table border=\"1\" class=\"dataframe\">\n",
       "  <thead>\n",
       "    <tr style=\"text-align: right;\">\n",
       "      <th>egg_hatched</th>\n",
       "      <th>False</th>\n",
       "      <th>True</th>\n",
       "    </tr>\n",
       "    <tr>\n",
       "      <th>treatment</th>\n",
       "      <th></th>\n",
       "      <th></th>\n",
       "    </tr>\n",
       "  </thead>\n",
       "  <tbody>\n",
       "    <tr>\n",
       "      <th>fecal pellets</th>\n",
       "      <td>8</td>\n",
       "      <td>33</td>\n",
       "    </tr>\n",
       "    <tr>\n",
       "      <th>frass</th>\n",
       "      <td>7</td>\n",
       "      <td>34</td>\n",
       "    </tr>\n",
       "    <tr>\n",
       "      <th>manure</th>\n",
       "      <td>9</td>\n",
       "      <td>37</td>\n",
       "    </tr>\n",
       "    <tr>\n",
       "      <th>peat moss</th>\n",
       "      <td>18</td>\n",
       "      <td>27</td>\n",
       "    </tr>\n",
       "  </tbody>\n",
       "</table>\n",
       "</div>"
      ],
      "text/plain": [
       "egg_hatched    False  True \n",
       "treatment                  \n",
       "fecal pellets      8     33\n",
       "frass              7     34\n",
       "manure             9     37\n",
       "peat moss         18     27"
      ]
     },
     "execution_count": 29,
     "metadata": {},
     "output_type": "execute_result"
    }
   ],
   "source": [
    "egg_data = pd.crosstab(df_endpoint.treatment, df_endpoint.egg_hatched)\n",
    "egg_data"
   ]
  },
  {
   "cell_type": "code",
   "execution_count": 30,
   "id": "9053d32a",
   "metadata": {},
   "outputs": [
    {
     "data": {
      "text/html": [
       "<div>\n",
       "<style scoped>\n",
       "    .dataframe tbody tr th:only-of-type {\n",
       "        vertical-align: middle;\n",
       "    }\n",
       "\n",
       "    .dataframe tbody tr th {\n",
       "        vertical-align: top;\n",
       "    }\n",
       "\n",
       "    .dataframe thead th {\n",
       "        text-align: right;\n",
       "    }\n",
       "</style>\n",
       "<table border=\"1\" class=\"dataframe\">\n",
       "  <thead>\n",
       "    <tr style=\"text-align: right;\">\n",
       "      <th></th>\n",
       "      <th>treatment</th>\n",
       "      <th>unhatched</th>\n",
       "      <th>hatched</th>\n",
       "      <th>proportion_hatched</th>\n",
       "    </tr>\n",
       "  </thead>\n",
       "  <tbody>\n",
       "    <tr>\n",
       "      <th>3</th>\n",
       "      <td>peat moss</td>\n",
       "      <td>18</td>\n",
       "      <td>27</td>\n",
       "      <td>0.600000</td>\n",
       "    </tr>\n",
       "    <tr>\n",
       "      <th>2</th>\n",
       "      <td>manure</td>\n",
       "      <td>9</td>\n",
       "      <td>37</td>\n",
       "      <td>0.804348</td>\n",
       "    </tr>\n",
       "    <tr>\n",
       "      <th>0</th>\n",
       "      <td>fecal pellets</td>\n",
       "      <td>8</td>\n",
       "      <td>33</td>\n",
       "      <td>0.804878</td>\n",
       "    </tr>\n",
       "    <tr>\n",
       "      <th>1</th>\n",
       "      <td>frass</td>\n",
       "      <td>7</td>\n",
       "      <td>34</td>\n",
       "      <td>0.829268</td>\n",
       "    </tr>\n",
       "  </tbody>\n",
       "</table>\n",
       "</div>"
      ],
      "text/plain": [
       "       treatment  unhatched  hatched  proportion_hatched\n",
       "3      peat moss         18       27            0.600000\n",
       "2         manure          9       37            0.804348\n",
       "0  fecal pellets          8       33            0.804878\n",
       "1          frass          7       34            0.829268"
      ]
     },
     "execution_count": 30,
     "metadata": {},
     "output_type": "execute_result"
    }
   ],
   "source": [
    "x = egg_data.reset_index(level=[0])\n",
    "x.columns = ['treatment','unhatched','hatched']\n",
    "x['proportion_hatched'] = x.hatched / (x.hatched + x.unhatched)\n",
    "x.sort_values(by='proportion_hatched',inplace=True, axis='rows')\n",
    "dfi.export(x, 'egg_survival_table.png')\n",
    "x"
   ]
  },
  {
   "cell_type": "code",
   "execution_count": 31,
   "id": "b97fc20e",
   "metadata": {},
   "outputs": [
    {
     "data": {
      "application/vnd.plotly.v1+json": {
       "config": {
        "plotlyServerURL": "https://plot.ly"
       },
       "data": [
        {
         "alignmentgroup": "True",
         "hovertemplate": "variable=proportion_hatched<br>treatment=%{x}<br>value=%{y}<extra></extra>",
         "legendgroup": "proportion_hatched",
         "marker": {
          "color": "#636efa",
          "pattern": {
           "shape": ""
          }
         },
         "name": "proportion_hatched",
         "offsetgroup": "proportion_hatched",
         "orientation": "v",
         "showlegend": true,
         "textposition": "auto",
         "type": "bar",
         "x": [
          "peat moss",
          "manure",
          "fecal pellets",
          "frass"
         ],
         "xaxis": "x",
         "y": [
          0.6,
          0.8043478260869565,
          0.8048780487804879,
          0.8292682926829268
         ],
         "yaxis": "y"
        }
       ],
       "layout": {
        "barmode": "relative",
        "legend": {
         "title": {
          "text": "variable"
         },
         "tracegroupgap": 0
        },
        "margin": {
         "t": 60
        },
        "showlegend": false,
        "template": {
         "data": {
          "bar": [
           {
            "error_x": {
             "color": "#2a3f5f"
            },
            "error_y": {
             "color": "#2a3f5f"
            },
            "marker": {
             "line": {
              "color": "#E5ECF6",
              "width": 0.5
             },
             "pattern": {
              "fillmode": "overlay",
              "size": 10,
              "solidity": 0.2
             }
            },
            "type": "bar"
           }
          ],
          "barpolar": [
           {
            "marker": {
             "line": {
              "color": "#E5ECF6",
              "width": 0.5
             },
             "pattern": {
              "fillmode": "overlay",
              "size": 10,
              "solidity": 0.2
             }
            },
            "type": "barpolar"
           }
          ],
          "carpet": [
           {
            "aaxis": {
             "endlinecolor": "#2a3f5f",
             "gridcolor": "white",
             "linecolor": "white",
             "minorgridcolor": "white",
             "startlinecolor": "#2a3f5f"
            },
            "baxis": {
             "endlinecolor": "#2a3f5f",
             "gridcolor": "white",
             "linecolor": "white",
             "minorgridcolor": "white",
             "startlinecolor": "#2a3f5f"
            },
            "type": "carpet"
           }
          ],
          "choropleth": [
           {
            "colorbar": {
             "outlinewidth": 0,
             "ticks": ""
            },
            "type": "choropleth"
           }
          ],
          "contour": [
           {
            "colorbar": {
             "outlinewidth": 0,
             "ticks": ""
            },
            "colorscale": [
             [
              0,
              "#0d0887"
             ],
             [
              0.1111111111111111,
              "#46039f"
             ],
             [
              0.2222222222222222,
              "#7201a8"
             ],
             [
              0.3333333333333333,
              "#9c179e"
             ],
             [
              0.4444444444444444,
              "#bd3786"
             ],
             [
              0.5555555555555556,
              "#d8576b"
             ],
             [
              0.6666666666666666,
              "#ed7953"
             ],
             [
              0.7777777777777778,
              "#fb9f3a"
             ],
             [
              0.8888888888888888,
              "#fdca26"
             ],
             [
              1,
              "#f0f921"
             ]
            ],
            "type": "contour"
           }
          ],
          "contourcarpet": [
           {
            "colorbar": {
             "outlinewidth": 0,
             "ticks": ""
            },
            "type": "contourcarpet"
           }
          ],
          "heatmap": [
           {
            "colorbar": {
             "outlinewidth": 0,
             "ticks": ""
            },
            "colorscale": [
             [
              0,
              "#0d0887"
             ],
             [
              0.1111111111111111,
              "#46039f"
             ],
             [
              0.2222222222222222,
              "#7201a8"
             ],
             [
              0.3333333333333333,
              "#9c179e"
             ],
             [
              0.4444444444444444,
              "#bd3786"
             ],
             [
              0.5555555555555556,
              "#d8576b"
             ],
             [
              0.6666666666666666,
              "#ed7953"
             ],
             [
              0.7777777777777778,
              "#fb9f3a"
             ],
             [
              0.8888888888888888,
              "#fdca26"
             ],
             [
              1,
              "#f0f921"
             ]
            ],
            "type": "heatmap"
           }
          ],
          "heatmapgl": [
           {
            "colorbar": {
             "outlinewidth": 0,
             "ticks": ""
            },
            "colorscale": [
             [
              0,
              "#0d0887"
             ],
             [
              0.1111111111111111,
              "#46039f"
             ],
             [
              0.2222222222222222,
              "#7201a8"
             ],
             [
              0.3333333333333333,
              "#9c179e"
             ],
             [
              0.4444444444444444,
              "#bd3786"
             ],
             [
              0.5555555555555556,
              "#d8576b"
             ],
             [
              0.6666666666666666,
              "#ed7953"
             ],
             [
              0.7777777777777778,
              "#fb9f3a"
             ],
             [
              0.8888888888888888,
              "#fdca26"
             ],
             [
              1,
              "#f0f921"
             ]
            ],
            "type": "heatmapgl"
           }
          ],
          "histogram": [
           {
            "marker": {
             "pattern": {
              "fillmode": "overlay",
              "size": 10,
              "solidity": 0.2
             }
            },
            "type": "histogram"
           }
          ],
          "histogram2d": [
           {
            "colorbar": {
             "outlinewidth": 0,
             "ticks": ""
            },
            "colorscale": [
             [
              0,
              "#0d0887"
             ],
             [
              0.1111111111111111,
              "#46039f"
             ],
             [
              0.2222222222222222,
              "#7201a8"
             ],
             [
              0.3333333333333333,
              "#9c179e"
             ],
             [
              0.4444444444444444,
              "#bd3786"
             ],
             [
              0.5555555555555556,
              "#d8576b"
             ],
             [
              0.6666666666666666,
              "#ed7953"
             ],
             [
              0.7777777777777778,
              "#fb9f3a"
             ],
             [
              0.8888888888888888,
              "#fdca26"
             ],
             [
              1,
              "#f0f921"
             ]
            ],
            "type": "histogram2d"
           }
          ],
          "histogram2dcontour": [
           {
            "colorbar": {
             "outlinewidth": 0,
             "ticks": ""
            },
            "colorscale": [
             [
              0,
              "#0d0887"
             ],
             [
              0.1111111111111111,
              "#46039f"
             ],
             [
              0.2222222222222222,
              "#7201a8"
             ],
             [
              0.3333333333333333,
              "#9c179e"
             ],
             [
              0.4444444444444444,
              "#bd3786"
             ],
             [
              0.5555555555555556,
              "#d8576b"
             ],
             [
              0.6666666666666666,
              "#ed7953"
             ],
             [
              0.7777777777777778,
              "#fb9f3a"
             ],
             [
              0.8888888888888888,
              "#fdca26"
             ],
             [
              1,
              "#f0f921"
             ]
            ],
            "type": "histogram2dcontour"
           }
          ],
          "mesh3d": [
           {
            "colorbar": {
             "outlinewidth": 0,
             "ticks": ""
            },
            "type": "mesh3d"
           }
          ],
          "parcoords": [
           {
            "line": {
             "colorbar": {
              "outlinewidth": 0,
              "ticks": ""
             }
            },
            "type": "parcoords"
           }
          ],
          "pie": [
           {
            "automargin": true,
            "type": "pie"
           }
          ],
          "scatter": [
           {
            "marker": {
             "colorbar": {
              "outlinewidth": 0,
              "ticks": ""
             }
            },
            "type": "scatter"
           }
          ],
          "scatter3d": [
           {
            "line": {
             "colorbar": {
              "outlinewidth": 0,
              "ticks": ""
             }
            },
            "marker": {
             "colorbar": {
              "outlinewidth": 0,
              "ticks": ""
             }
            },
            "type": "scatter3d"
           }
          ],
          "scattercarpet": [
           {
            "marker": {
             "colorbar": {
              "outlinewidth": 0,
              "ticks": ""
             }
            },
            "type": "scattercarpet"
           }
          ],
          "scattergeo": [
           {
            "marker": {
             "colorbar": {
              "outlinewidth": 0,
              "ticks": ""
             }
            },
            "type": "scattergeo"
           }
          ],
          "scattergl": [
           {
            "marker": {
             "colorbar": {
              "outlinewidth": 0,
              "ticks": ""
             }
            },
            "type": "scattergl"
           }
          ],
          "scattermapbox": [
           {
            "marker": {
             "colorbar": {
              "outlinewidth": 0,
              "ticks": ""
             }
            },
            "type": "scattermapbox"
           }
          ],
          "scatterpolar": [
           {
            "marker": {
             "colorbar": {
              "outlinewidth": 0,
              "ticks": ""
             }
            },
            "type": "scatterpolar"
           }
          ],
          "scatterpolargl": [
           {
            "marker": {
             "colorbar": {
              "outlinewidth": 0,
              "ticks": ""
             }
            },
            "type": "scatterpolargl"
           }
          ],
          "scatterternary": [
           {
            "marker": {
             "colorbar": {
              "outlinewidth": 0,
              "ticks": ""
             }
            },
            "type": "scatterternary"
           }
          ],
          "surface": [
           {
            "colorbar": {
             "outlinewidth": 0,
             "ticks": ""
            },
            "colorscale": [
             [
              0,
              "#0d0887"
             ],
             [
              0.1111111111111111,
              "#46039f"
             ],
             [
              0.2222222222222222,
              "#7201a8"
             ],
             [
              0.3333333333333333,
              "#9c179e"
             ],
             [
              0.4444444444444444,
              "#bd3786"
             ],
             [
              0.5555555555555556,
              "#d8576b"
             ],
             [
              0.6666666666666666,
              "#ed7953"
             ],
             [
              0.7777777777777778,
              "#fb9f3a"
             ],
             [
              0.8888888888888888,
              "#fdca26"
             ],
             [
              1,
              "#f0f921"
             ]
            ],
            "type": "surface"
           }
          ],
          "table": [
           {
            "cells": {
             "fill": {
              "color": "#EBF0F8"
             },
             "line": {
              "color": "white"
             }
            },
            "header": {
             "fill": {
              "color": "#C8D4E3"
             },
             "line": {
              "color": "white"
             }
            },
            "type": "table"
           }
          ]
         },
         "layout": {
          "annotationdefaults": {
           "arrowcolor": "#2a3f5f",
           "arrowhead": 0,
           "arrowwidth": 1
          },
          "autotypenumbers": "strict",
          "coloraxis": {
           "colorbar": {
            "outlinewidth": 0,
            "ticks": ""
           }
          },
          "colorscale": {
           "diverging": [
            [
             0,
             "#8e0152"
            ],
            [
             0.1,
             "#c51b7d"
            ],
            [
             0.2,
             "#de77ae"
            ],
            [
             0.3,
             "#f1b6da"
            ],
            [
             0.4,
             "#fde0ef"
            ],
            [
             0.5,
             "#f7f7f7"
            ],
            [
             0.6,
             "#e6f5d0"
            ],
            [
             0.7,
             "#b8e186"
            ],
            [
             0.8,
             "#7fbc41"
            ],
            [
             0.9,
             "#4d9221"
            ],
            [
             1,
             "#276419"
            ]
           ],
           "sequential": [
            [
             0,
             "#0d0887"
            ],
            [
             0.1111111111111111,
             "#46039f"
            ],
            [
             0.2222222222222222,
             "#7201a8"
            ],
            [
             0.3333333333333333,
             "#9c179e"
            ],
            [
             0.4444444444444444,
             "#bd3786"
            ],
            [
             0.5555555555555556,
             "#d8576b"
            ],
            [
             0.6666666666666666,
             "#ed7953"
            ],
            [
             0.7777777777777778,
             "#fb9f3a"
            ],
            [
             0.8888888888888888,
             "#fdca26"
            ],
            [
             1,
             "#f0f921"
            ]
           ],
           "sequentialminus": [
            [
             0,
             "#0d0887"
            ],
            [
             0.1111111111111111,
             "#46039f"
            ],
            [
             0.2222222222222222,
             "#7201a8"
            ],
            [
             0.3333333333333333,
             "#9c179e"
            ],
            [
             0.4444444444444444,
             "#bd3786"
            ],
            [
             0.5555555555555556,
             "#d8576b"
            ],
            [
             0.6666666666666666,
             "#ed7953"
            ],
            [
             0.7777777777777778,
             "#fb9f3a"
            ],
            [
             0.8888888888888888,
             "#fdca26"
            ],
            [
             1,
             "#f0f921"
            ]
           ]
          },
          "colorway": [
           "#636efa",
           "#EF553B",
           "#00cc96",
           "#ab63fa",
           "#FFA15A",
           "#19d3f3",
           "#FF6692",
           "#B6E880",
           "#FF97FF",
           "#FECB52"
          ],
          "font": {
           "color": "#2a3f5f"
          },
          "geo": {
           "bgcolor": "white",
           "lakecolor": "white",
           "landcolor": "#E5ECF6",
           "showlakes": true,
           "showland": true,
           "subunitcolor": "white"
          },
          "hoverlabel": {
           "align": "left"
          },
          "hovermode": "closest",
          "mapbox": {
           "style": "light"
          },
          "paper_bgcolor": "white",
          "plot_bgcolor": "#E5ECF6",
          "polar": {
           "angularaxis": {
            "gridcolor": "white",
            "linecolor": "white",
            "ticks": ""
           },
           "bgcolor": "#E5ECF6",
           "radialaxis": {
            "gridcolor": "white",
            "linecolor": "white",
            "ticks": ""
           }
          },
          "scene": {
           "xaxis": {
            "backgroundcolor": "#E5ECF6",
            "gridcolor": "white",
            "gridwidth": 2,
            "linecolor": "white",
            "showbackground": true,
            "ticks": "",
            "zerolinecolor": "white"
           },
           "yaxis": {
            "backgroundcolor": "#E5ECF6",
            "gridcolor": "white",
            "gridwidth": 2,
            "linecolor": "white",
            "showbackground": true,
            "ticks": "",
            "zerolinecolor": "white"
           },
           "zaxis": {
            "backgroundcolor": "#E5ECF6",
            "gridcolor": "white",
            "gridwidth": 2,
            "linecolor": "white",
            "showbackground": true,
            "ticks": "",
            "zerolinecolor": "white"
           }
          },
          "shapedefaults": {
           "line": {
            "color": "#2a3f5f"
           }
          },
          "ternary": {
           "aaxis": {
            "gridcolor": "white",
            "linecolor": "white",
            "ticks": ""
           },
           "baxis": {
            "gridcolor": "white",
            "linecolor": "white",
            "ticks": ""
           },
           "bgcolor": "#E5ECF6",
           "caxis": {
            "gridcolor": "white",
            "linecolor": "white",
            "ticks": ""
           }
          },
          "title": {
           "x": 0.05
          },
          "xaxis": {
           "automargin": true,
           "gridcolor": "white",
           "linecolor": "white",
           "ticks": "",
           "title": {
            "standoff": 15
           },
           "zerolinecolor": "white",
           "zerolinewidth": 2
          },
          "yaxis": {
           "automargin": true,
           "gridcolor": "white",
           "linecolor": "white",
           "ticks": "",
           "title": {
            "standoff": 15
           },
           "zerolinecolor": "white",
           "zerolinewidth": 2
          }
         }
        },
        "xaxis": {
         "anchor": "y",
         "domain": [
          0,
          1
         ],
         "title": {
          "text": "treatment"
         }
        },
        "yaxis": {
         "anchor": "x",
         "domain": [
          0,
          1
         ],
         "range": [
          0,
          1
         ],
         "title": {
          "text": "proportion of eggs which hatched"
         }
        }
       }
      },
      "text/html": [
       "<div>                            <div id=\"8b8603af-4f64-4326-956e-c48dd00e1bc1\" class=\"plotly-graph-div\" style=\"height:525px; width:100%;\"></div>            <script type=\"text/javascript\">                require([\"plotly\"], function(Plotly) {                    window.PLOTLYENV=window.PLOTLYENV || {};                                    if (document.getElementById(\"8b8603af-4f64-4326-956e-c48dd00e1bc1\")) {                    Plotly.newPlot(                        \"8b8603af-4f64-4326-956e-c48dd00e1bc1\",                        [{\"alignmentgroup\":\"True\",\"hovertemplate\":\"variable=proportion_hatched<br>treatment=%{x}<br>value=%{y}<extra></extra>\",\"legendgroup\":\"proportion_hatched\",\"marker\":{\"color\":\"#636efa\",\"pattern\":{\"shape\":\"\"}},\"name\":\"proportion_hatched\",\"offsetgroup\":\"proportion_hatched\",\"orientation\":\"v\",\"showlegend\":true,\"textposition\":\"auto\",\"type\":\"bar\",\"x\":[\"peat moss\",\"manure\",\"fecal pellets\",\"frass\"],\"xaxis\":\"x\",\"y\":[0.6,0.8043478260869565,0.8048780487804879,0.8292682926829268],\"yaxis\":\"y\"}],                        {\"barmode\":\"relative\",\"legend\":{\"title\":{\"text\":\"variable\"},\"tracegroupgap\":0},\"margin\":{\"t\":60},\"showlegend\":false,\"template\":{\"data\":{\"bar\":[{\"error_x\":{\"color\":\"#2a3f5f\"},\"error_y\":{\"color\":\"#2a3f5f\"},\"marker\":{\"line\":{\"color\":\"#E5ECF6\",\"width\":0.5},\"pattern\":{\"fillmode\":\"overlay\",\"size\":10,\"solidity\":0.2}},\"type\":\"bar\"}],\"barpolar\":[{\"marker\":{\"line\":{\"color\":\"#E5ECF6\",\"width\":0.5},\"pattern\":{\"fillmode\":\"overlay\",\"size\":10,\"solidity\":0.2}},\"type\":\"barpolar\"}],\"carpet\":[{\"aaxis\":{\"endlinecolor\":\"#2a3f5f\",\"gridcolor\":\"white\",\"linecolor\":\"white\",\"minorgridcolor\":\"white\",\"startlinecolor\":\"#2a3f5f\"},\"baxis\":{\"endlinecolor\":\"#2a3f5f\",\"gridcolor\":\"white\",\"linecolor\":\"white\",\"minorgridcolor\":\"white\",\"startlinecolor\":\"#2a3f5f\"},\"type\":\"carpet\"}],\"choropleth\":[{\"colorbar\":{\"outlinewidth\":0,\"ticks\":\"\"},\"type\":\"choropleth\"}],\"contour\":[{\"colorbar\":{\"outlinewidth\":0,\"ticks\":\"\"},\"colorscale\":[[0.0,\"#0d0887\"],[0.1111111111111111,\"#46039f\"],[0.2222222222222222,\"#7201a8\"],[0.3333333333333333,\"#9c179e\"],[0.4444444444444444,\"#bd3786\"],[0.5555555555555556,\"#d8576b\"],[0.6666666666666666,\"#ed7953\"],[0.7777777777777778,\"#fb9f3a\"],[0.8888888888888888,\"#fdca26\"],[1.0,\"#f0f921\"]],\"type\":\"contour\"}],\"contourcarpet\":[{\"colorbar\":{\"outlinewidth\":0,\"ticks\":\"\"},\"type\":\"contourcarpet\"}],\"heatmap\":[{\"colorbar\":{\"outlinewidth\":0,\"ticks\":\"\"},\"colorscale\":[[0.0,\"#0d0887\"],[0.1111111111111111,\"#46039f\"],[0.2222222222222222,\"#7201a8\"],[0.3333333333333333,\"#9c179e\"],[0.4444444444444444,\"#bd3786\"],[0.5555555555555556,\"#d8576b\"],[0.6666666666666666,\"#ed7953\"],[0.7777777777777778,\"#fb9f3a\"],[0.8888888888888888,\"#fdca26\"],[1.0,\"#f0f921\"]],\"type\":\"heatmap\"}],\"heatmapgl\":[{\"colorbar\":{\"outlinewidth\":0,\"ticks\":\"\"},\"colorscale\":[[0.0,\"#0d0887\"],[0.1111111111111111,\"#46039f\"],[0.2222222222222222,\"#7201a8\"],[0.3333333333333333,\"#9c179e\"],[0.4444444444444444,\"#bd3786\"],[0.5555555555555556,\"#d8576b\"],[0.6666666666666666,\"#ed7953\"],[0.7777777777777778,\"#fb9f3a\"],[0.8888888888888888,\"#fdca26\"],[1.0,\"#f0f921\"]],\"type\":\"heatmapgl\"}],\"histogram\":[{\"marker\":{\"pattern\":{\"fillmode\":\"overlay\",\"size\":10,\"solidity\":0.2}},\"type\":\"histogram\"}],\"histogram2d\":[{\"colorbar\":{\"outlinewidth\":0,\"ticks\":\"\"},\"colorscale\":[[0.0,\"#0d0887\"],[0.1111111111111111,\"#46039f\"],[0.2222222222222222,\"#7201a8\"],[0.3333333333333333,\"#9c179e\"],[0.4444444444444444,\"#bd3786\"],[0.5555555555555556,\"#d8576b\"],[0.6666666666666666,\"#ed7953\"],[0.7777777777777778,\"#fb9f3a\"],[0.8888888888888888,\"#fdca26\"],[1.0,\"#f0f921\"]],\"type\":\"histogram2d\"}],\"histogram2dcontour\":[{\"colorbar\":{\"outlinewidth\":0,\"ticks\":\"\"},\"colorscale\":[[0.0,\"#0d0887\"],[0.1111111111111111,\"#46039f\"],[0.2222222222222222,\"#7201a8\"],[0.3333333333333333,\"#9c179e\"],[0.4444444444444444,\"#bd3786\"],[0.5555555555555556,\"#d8576b\"],[0.6666666666666666,\"#ed7953\"],[0.7777777777777778,\"#fb9f3a\"],[0.8888888888888888,\"#fdca26\"],[1.0,\"#f0f921\"]],\"type\":\"histogram2dcontour\"}],\"mesh3d\":[{\"colorbar\":{\"outlinewidth\":0,\"ticks\":\"\"},\"type\":\"mesh3d\"}],\"parcoords\":[{\"line\":{\"colorbar\":{\"outlinewidth\":0,\"ticks\":\"\"}},\"type\":\"parcoords\"}],\"pie\":[{\"automargin\":true,\"type\":\"pie\"}],\"scatter\":[{\"marker\":{\"colorbar\":{\"outlinewidth\":0,\"ticks\":\"\"}},\"type\":\"scatter\"}],\"scatter3d\":[{\"line\":{\"colorbar\":{\"outlinewidth\":0,\"ticks\":\"\"}},\"marker\":{\"colorbar\":{\"outlinewidth\":0,\"ticks\":\"\"}},\"type\":\"scatter3d\"}],\"scattercarpet\":[{\"marker\":{\"colorbar\":{\"outlinewidth\":0,\"ticks\":\"\"}},\"type\":\"scattercarpet\"}],\"scattergeo\":[{\"marker\":{\"colorbar\":{\"outlinewidth\":0,\"ticks\":\"\"}},\"type\":\"scattergeo\"}],\"scattergl\":[{\"marker\":{\"colorbar\":{\"outlinewidth\":0,\"ticks\":\"\"}},\"type\":\"scattergl\"}],\"scattermapbox\":[{\"marker\":{\"colorbar\":{\"outlinewidth\":0,\"ticks\":\"\"}},\"type\":\"scattermapbox\"}],\"scatterpolar\":[{\"marker\":{\"colorbar\":{\"outlinewidth\":0,\"ticks\":\"\"}},\"type\":\"scatterpolar\"}],\"scatterpolargl\":[{\"marker\":{\"colorbar\":{\"outlinewidth\":0,\"ticks\":\"\"}},\"type\":\"scatterpolargl\"}],\"scatterternary\":[{\"marker\":{\"colorbar\":{\"outlinewidth\":0,\"ticks\":\"\"}},\"type\":\"scatterternary\"}],\"surface\":[{\"colorbar\":{\"outlinewidth\":0,\"ticks\":\"\"},\"colorscale\":[[0.0,\"#0d0887\"],[0.1111111111111111,\"#46039f\"],[0.2222222222222222,\"#7201a8\"],[0.3333333333333333,\"#9c179e\"],[0.4444444444444444,\"#bd3786\"],[0.5555555555555556,\"#d8576b\"],[0.6666666666666666,\"#ed7953\"],[0.7777777777777778,\"#fb9f3a\"],[0.8888888888888888,\"#fdca26\"],[1.0,\"#f0f921\"]],\"type\":\"surface\"}],\"table\":[{\"cells\":{\"fill\":{\"color\":\"#EBF0F8\"},\"line\":{\"color\":\"white\"}},\"header\":{\"fill\":{\"color\":\"#C8D4E3\"},\"line\":{\"color\":\"white\"}},\"type\":\"table\"}]},\"layout\":{\"annotationdefaults\":{\"arrowcolor\":\"#2a3f5f\",\"arrowhead\":0,\"arrowwidth\":1},\"autotypenumbers\":\"strict\",\"coloraxis\":{\"colorbar\":{\"outlinewidth\":0,\"ticks\":\"\"}},\"colorscale\":{\"diverging\":[[0,\"#8e0152\"],[0.1,\"#c51b7d\"],[0.2,\"#de77ae\"],[0.3,\"#f1b6da\"],[0.4,\"#fde0ef\"],[0.5,\"#f7f7f7\"],[0.6,\"#e6f5d0\"],[0.7,\"#b8e186\"],[0.8,\"#7fbc41\"],[0.9,\"#4d9221\"],[1,\"#276419\"]],\"sequential\":[[0.0,\"#0d0887\"],[0.1111111111111111,\"#46039f\"],[0.2222222222222222,\"#7201a8\"],[0.3333333333333333,\"#9c179e\"],[0.4444444444444444,\"#bd3786\"],[0.5555555555555556,\"#d8576b\"],[0.6666666666666666,\"#ed7953\"],[0.7777777777777778,\"#fb9f3a\"],[0.8888888888888888,\"#fdca26\"],[1.0,\"#f0f921\"]],\"sequentialminus\":[[0.0,\"#0d0887\"],[0.1111111111111111,\"#46039f\"],[0.2222222222222222,\"#7201a8\"],[0.3333333333333333,\"#9c179e\"],[0.4444444444444444,\"#bd3786\"],[0.5555555555555556,\"#d8576b\"],[0.6666666666666666,\"#ed7953\"],[0.7777777777777778,\"#fb9f3a\"],[0.8888888888888888,\"#fdca26\"],[1.0,\"#f0f921\"]]},\"colorway\":[\"#636efa\",\"#EF553B\",\"#00cc96\",\"#ab63fa\",\"#FFA15A\",\"#19d3f3\",\"#FF6692\",\"#B6E880\",\"#FF97FF\",\"#FECB52\"],\"font\":{\"color\":\"#2a3f5f\"},\"geo\":{\"bgcolor\":\"white\",\"lakecolor\":\"white\",\"landcolor\":\"#E5ECF6\",\"showlakes\":true,\"showland\":true,\"subunitcolor\":\"white\"},\"hoverlabel\":{\"align\":\"left\"},\"hovermode\":\"closest\",\"mapbox\":{\"style\":\"light\"},\"paper_bgcolor\":\"white\",\"plot_bgcolor\":\"#E5ECF6\",\"polar\":{\"angularaxis\":{\"gridcolor\":\"white\",\"linecolor\":\"white\",\"ticks\":\"\"},\"bgcolor\":\"#E5ECF6\",\"radialaxis\":{\"gridcolor\":\"white\",\"linecolor\":\"white\",\"ticks\":\"\"}},\"scene\":{\"xaxis\":{\"backgroundcolor\":\"#E5ECF6\",\"gridcolor\":\"white\",\"gridwidth\":2,\"linecolor\":\"white\",\"showbackground\":true,\"ticks\":\"\",\"zerolinecolor\":\"white\"},\"yaxis\":{\"backgroundcolor\":\"#E5ECF6\",\"gridcolor\":\"white\",\"gridwidth\":2,\"linecolor\":\"white\",\"showbackground\":true,\"ticks\":\"\",\"zerolinecolor\":\"white\"},\"zaxis\":{\"backgroundcolor\":\"#E5ECF6\",\"gridcolor\":\"white\",\"gridwidth\":2,\"linecolor\":\"white\",\"showbackground\":true,\"ticks\":\"\",\"zerolinecolor\":\"white\"}},\"shapedefaults\":{\"line\":{\"color\":\"#2a3f5f\"}},\"ternary\":{\"aaxis\":{\"gridcolor\":\"white\",\"linecolor\":\"white\",\"ticks\":\"\"},\"baxis\":{\"gridcolor\":\"white\",\"linecolor\":\"white\",\"ticks\":\"\"},\"bgcolor\":\"#E5ECF6\",\"caxis\":{\"gridcolor\":\"white\",\"linecolor\":\"white\",\"ticks\":\"\"}},\"title\":{\"x\":0.05},\"xaxis\":{\"automargin\":true,\"gridcolor\":\"white\",\"linecolor\":\"white\",\"ticks\":\"\",\"title\":{\"standoff\":15},\"zerolinecolor\":\"white\",\"zerolinewidth\":2},\"yaxis\":{\"automargin\":true,\"gridcolor\":\"white\",\"linecolor\":\"white\",\"ticks\":\"\",\"title\":{\"standoff\":15},\"zerolinecolor\":\"white\",\"zerolinewidth\":2}}},\"xaxis\":{\"anchor\":\"y\",\"domain\":[0.0,1.0],\"title\":{\"text\":\"treatment\"}},\"yaxis\":{\"anchor\":\"x\",\"domain\":[0.0,1.0],\"range\":[0,1],\"title\":{\"text\":\"proportion of eggs which hatched\"}}},                        {\"responsive\": true}                    ).then(function(){\n",
       "                            \n",
       "var gd = document.getElementById('8b8603af-4f64-4326-956e-c48dd00e1bc1');\n",
       "var x = new MutationObserver(function (mutations, observer) {{\n",
       "        var display = window.getComputedStyle(gd).display;\n",
       "        if (!display || display === 'none') {{\n",
       "            console.log([gd, 'removed!']);\n",
       "            Plotly.purge(gd);\n",
       "            observer.disconnect();\n",
       "        }}\n",
       "}});\n",
       "\n",
       "// Listen for the removal of the full notebook cells\n",
       "var notebookContainer = gd.closest('#notebook-container');\n",
       "if (notebookContainer) {{\n",
       "    x.observe(notebookContainer, {childList: true});\n",
       "}}\n",
       "\n",
       "// Listen for the clearing of the current output cell\n",
       "var outputEl = gd.closest('.output');\n",
       "if (outputEl) {{\n",
       "    x.observe(outputEl, {childList: true});\n",
       "}}\n",
       "\n",
       "                        })                };                });            </script>        </div>"
      ]
     },
     "metadata": {},
     "output_type": "display_data"
    }
   ],
   "source": [
    "fig = x.plot(x='treatment', y='proportion_hatched', kind='bar')\n",
    "fig.update_yaxes(range=[0,1], title='proportion of eggs which hatched')\n",
    "fig.layout.showlegend = False\n",
    "fig.write_image(\"egg_survival_plot.png\")\n",
    "fig.show()"
   ]
  },
  {
   "cell_type": "code",
   "execution_count": 32,
   "id": "c4229a24",
   "metadata": {},
   "outputs": [
    {
     "name": "stdout",
     "output_type": "stream",
     "text": [
      "Chi2 result of the contingency table: 8.270648694989156, p-value: 0.04073715987248983\n",
      "\n",
      "Post-hoc chi2 tests results:\n",
      "('fecal pellets', 'frass'): p_value: 1.000000; corrected: 1.000000 (ns) reject: False\n",
      "('fecal pellets', 'manure'): p_value: 0.791311; corrected: 1.000000 (ns) reject: False\n",
      "('fecal pellets', 'peat moss'): p_value: 0.067072; corrected: 0.134144 (ns) reject: False\n",
      "('frass', 'manure'): p_value: 0.982206; corrected: 1.000000 (ns) reject: False\n",
      "('frass', 'peat moss'): p_value: 0.035652; corrected: 0.134144 (*) reject: False\n",
      "('manure', 'peat moss'): p_value: 0.056902; corrected: 0.134144 (ns) reject: False\n"
     ]
    }
   ],
   "source": [
    "chisq_test_wrapper.chisq_and_posthoc_corrected(egg_data)"
   ]
  },
  {
   "cell_type": "markdown",
   "id": "709edced",
   "metadata": {},
   "source": [
    "### Larval survival"
   ]
  },
  {
   "cell_type": "code",
   "execution_count": 33,
   "id": "b6c41f85",
   "metadata": {},
   "outputs": [
    {
     "data": {
      "text/html": [
       "<div>\n",
       "<style scoped>\n",
       "    .dataframe tbody tr th:only-of-type {\n",
       "        vertical-align: middle;\n",
       "    }\n",
       "\n",
       "    .dataframe tbody tr th {\n",
       "        vertical-align: top;\n",
       "    }\n",
       "\n",
       "    .dataframe thead th {\n",
       "        text-align: right;\n",
       "    }\n",
       "</style>\n",
       "<table border=\"1\" class=\"dataframe\">\n",
       "  <thead>\n",
       "    <tr style=\"text-align: right;\">\n",
       "      <th>larva_survived</th>\n",
       "      <th>False</th>\n",
       "      <th>True</th>\n",
       "    </tr>\n",
       "    <tr>\n",
       "      <th>treatment</th>\n",
       "      <th></th>\n",
       "      <th></th>\n",
       "    </tr>\n",
       "  </thead>\n",
       "  <tbody>\n",
       "    <tr>\n",
       "      <th>fecal pellets</th>\n",
       "      <td>31</td>\n",
       "      <td>2</td>\n",
       "    </tr>\n",
       "    <tr>\n",
       "      <th>frass</th>\n",
       "      <td>0</td>\n",
       "      <td>34</td>\n",
       "    </tr>\n",
       "    <tr>\n",
       "      <th>manure</th>\n",
       "      <td>11</td>\n",
       "      <td>26</td>\n",
       "    </tr>\n",
       "    <tr>\n",
       "      <th>peat moss</th>\n",
       "      <td>27</td>\n",
       "      <td>0</td>\n",
       "    </tr>\n",
       "  </tbody>\n",
       "</table>\n",
       "</div>"
      ],
      "text/plain": [
       "larva_survived  False  True \n",
       "treatment                   \n",
       "fecal pellets      31      2\n",
       "frass               0     34\n",
       "manure             11     26\n",
       "peat moss          27      0"
      ]
     },
     "execution_count": 33,
     "metadata": {},
     "output_type": "execute_result"
    }
   ],
   "source": [
    "temp = df_endpoint[df_endpoint.egg_hatched==True]\n",
    "larva_data = pd.crosstab(temp.treatment, temp.larva_survived)\n",
    "larva_data"
   ]
  },
  {
   "cell_type": "code",
   "execution_count": 34,
   "id": "22301586",
   "metadata": {},
   "outputs": [
    {
     "data": {
      "text/html": [
       "<div>\n",
       "<style scoped>\n",
       "    .dataframe tbody tr th:only-of-type {\n",
       "        vertical-align: middle;\n",
       "    }\n",
       "\n",
       "    .dataframe tbody tr th {\n",
       "        vertical-align: top;\n",
       "    }\n",
       "\n",
       "    .dataframe thead th {\n",
       "        text-align: right;\n",
       "    }\n",
       "</style>\n",
       "<table border=\"1\" class=\"dataframe\">\n",
       "  <thead>\n",
       "    <tr style=\"text-align: right;\">\n",
       "      <th></th>\n",
       "      <th>treatment</th>\n",
       "      <th>dead</th>\n",
       "      <th>alive</th>\n",
       "      <th>proportion_alive</th>\n",
       "    </tr>\n",
       "  </thead>\n",
       "  <tbody>\n",
       "    <tr>\n",
       "      <th>3</th>\n",
       "      <td>peat moss</td>\n",
       "      <td>27</td>\n",
       "      <td>0</td>\n",
       "      <td>0.000000</td>\n",
       "    </tr>\n",
       "    <tr>\n",
       "      <th>0</th>\n",
       "      <td>fecal pellets</td>\n",
       "      <td>31</td>\n",
       "      <td>2</td>\n",
       "      <td>0.060606</td>\n",
       "    </tr>\n",
       "    <tr>\n",
       "      <th>2</th>\n",
       "      <td>manure</td>\n",
       "      <td>11</td>\n",
       "      <td>26</td>\n",
       "      <td>0.702703</td>\n",
       "    </tr>\n",
       "    <tr>\n",
       "      <th>1</th>\n",
       "      <td>frass</td>\n",
       "      <td>0</td>\n",
       "      <td>34</td>\n",
       "      <td>1.000000</td>\n",
       "    </tr>\n",
       "  </tbody>\n",
       "</table>\n",
       "</div>"
      ],
      "text/plain": [
       "       treatment  dead  alive  proportion_alive\n",
       "3      peat moss    27      0          0.000000\n",
       "0  fecal pellets    31      2          0.060606\n",
       "2         manure    11     26          0.702703\n",
       "1          frass     0     34          1.000000"
      ]
     },
     "execution_count": 34,
     "metadata": {},
     "output_type": "execute_result"
    }
   ],
   "source": [
    "x = larva_data.reset_index(level=[0])\n",
    "x.columns = ['treatment','dead','alive']\n",
    "x['proportion_alive'] = x.alive / (x.alive + x.dead)\n",
    "x.sort_values(by='proportion_alive',inplace=True, axis='rows')\n",
    "dfi.export(x, 'larval_survival_table.png')\n",
    "x"
   ]
  },
  {
   "cell_type": "code",
   "execution_count": 35,
   "id": "0ab4cc38",
   "metadata": {},
   "outputs": [
    {
     "data": {
      "application/vnd.plotly.v1+json": {
       "config": {
        "plotlyServerURL": "https://plot.ly"
       },
       "data": [
        {
         "alignmentgroup": "True",
         "hovertemplate": "variable=proportion_alive<br>treatment=%{x}<br>value=%{y}<extra></extra>",
         "legendgroup": "proportion_alive",
         "marker": {
          "color": "#636efa",
          "pattern": {
           "shape": ""
          }
         },
         "name": "proportion_alive",
         "offsetgroup": "proportion_alive",
         "orientation": "v",
         "showlegend": true,
         "textposition": "auto",
         "type": "bar",
         "x": [
          "peat moss",
          "fecal pellets",
          "manure",
          "frass"
         ],
         "xaxis": "x",
         "y": [
          0,
          0.06060606060606061,
          0.7027027027027027,
          1
         ],
         "yaxis": "y"
        }
       ],
       "layout": {
        "barmode": "relative",
        "legend": {
         "title": {
          "text": "variable"
         },
         "tracegroupgap": 0
        },
        "margin": {
         "t": 60
        },
        "showlegend": false,
        "template": {
         "data": {
          "bar": [
           {
            "error_x": {
             "color": "#2a3f5f"
            },
            "error_y": {
             "color": "#2a3f5f"
            },
            "marker": {
             "line": {
              "color": "#E5ECF6",
              "width": 0.5
             },
             "pattern": {
              "fillmode": "overlay",
              "size": 10,
              "solidity": 0.2
             }
            },
            "type": "bar"
           }
          ],
          "barpolar": [
           {
            "marker": {
             "line": {
              "color": "#E5ECF6",
              "width": 0.5
             },
             "pattern": {
              "fillmode": "overlay",
              "size": 10,
              "solidity": 0.2
             }
            },
            "type": "barpolar"
           }
          ],
          "carpet": [
           {
            "aaxis": {
             "endlinecolor": "#2a3f5f",
             "gridcolor": "white",
             "linecolor": "white",
             "minorgridcolor": "white",
             "startlinecolor": "#2a3f5f"
            },
            "baxis": {
             "endlinecolor": "#2a3f5f",
             "gridcolor": "white",
             "linecolor": "white",
             "minorgridcolor": "white",
             "startlinecolor": "#2a3f5f"
            },
            "type": "carpet"
           }
          ],
          "choropleth": [
           {
            "colorbar": {
             "outlinewidth": 0,
             "ticks": ""
            },
            "type": "choropleth"
           }
          ],
          "contour": [
           {
            "colorbar": {
             "outlinewidth": 0,
             "ticks": ""
            },
            "colorscale": [
             [
              0,
              "#0d0887"
             ],
             [
              0.1111111111111111,
              "#46039f"
             ],
             [
              0.2222222222222222,
              "#7201a8"
             ],
             [
              0.3333333333333333,
              "#9c179e"
             ],
             [
              0.4444444444444444,
              "#bd3786"
             ],
             [
              0.5555555555555556,
              "#d8576b"
             ],
             [
              0.6666666666666666,
              "#ed7953"
             ],
             [
              0.7777777777777778,
              "#fb9f3a"
             ],
             [
              0.8888888888888888,
              "#fdca26"
             ],
             [
              1,
              "#f0f921"
             ]
            ],
            "type": "contour"
           }
          ],
          "contourcarpet": [
           {
            "colorbar": {
             "outlinewidth": 0,
             "ticks": ""
            },
            "type": "contourcarpet"
           }
          ],
          "heatmap": [
           {
            "colorbar": {
             "outlinewidth": 0,
             "ticks": ""
            },
            "colorscale": [
             [
              0,
              "#0d0887"
             ],
             [
              0.1111111111111111,
              "#46039f"
             ],
             [
              0.2222222222222222,
              "#7201a8"
             ],
             [
              0.3333333333333333,
              "#9c179e"
             ],
             [
              0.4444444444444444,
              "#bd3786"
             ],
             [
              0.5555555555555556,
              "#d8576b"
             ],
             [
              0.6666666666666666,
              "#ed7953"
             ],
             [
              0.7777777777777778,
              "#fb9f3a"
             ],
             [
              0.8888888888888888,
              "#fdca26"
             ],
             [
              1,
              "#f0f921"
             ]
            ],
            "type": "heatmap"
           }
          ],
          "heatmapgl": [
           {
            "colorbar": {
             "outlinewidth": 0,
             "ticks": ""
            },
            "colorscale": [
             [
              0,
              "#0d0887"
             ],
             [
              0.1111111111111111,
              "#46039f"
             ],
             [
              0.2222222222222222,
              "#7201a8"
             ],
             [
              0.3333333333333333,
              "#9c179e"
             ],
             [
              0.4444444444444444,
              "#bd3786"
             ],
             [
              0.5555555555555556,
              "#d8576b"
             ],
             [
              0.6666666666666666,
              "#ed7953"
             ],
             [
              0.7777777777777778,
              "#fb9f3a"
             ],
             [
              0.8888888888888888,
              "#fdca26"
             ],
             [
              1,
              "#f0f921"
             ]
            ],
            "type": "heatmapgl"
           }
          ],
          "histogram": [
           {
            "marker": {
             "pattern": {
              "fillmode": "overlay",
              "size": 10,
              "solidity": 0.2
             }
            },
            "type": "histogram"
           }
          ],
          "histogram2d": [
           {
            "colorbar": {
             "outlinewidth": 0,
             "ticks": ""
            },
            "colorscale": [
             [
              0,
              "#0d0887"
             ],
             [
              0.1111111111111111,
              "#46039f"
             ],
             [
              0.2222222222222222,
              "#7201a8"
             ],
             [
              0.3333333333333333,
              "#9c179e"
             ],
             [
              0.4444444444444444,
              "#bd3786"
             ],
             [
              0.5555555555555556,
              "#d8576b"
             ],
             [
              0.6666666666666666,
              "#ed7953"
             ],
             [
              0.7777777777777778,
              "#fb9f3a"
             ],
             [
              0.8888888888888888,
              "#fdca26"
             ],
             [
              1,
              "#f0f921"
             ]
            ],
            "type": "histogram2d"
           }
          ],
          "histogram2dcontour": [
           {
            "colorbar": {
             "outlinewidth": 0,
             "ticks": ""
            },
            "colorscale": [
             [
              0,
              "#0d0887"
             ],
             [
              0.1111111111111111,
              "#46039f"
             ],
             [
              0.2222222222222222,
              "#7201a8"
             ],
             [
              0.3333333333333333,
              "#9c179e"
             ],
             [
              0.4444444444444444,
              "#bd3786"
             ],
             [
              0.5555555555555556,
              "#d8576b"
             ],
             [
              0.6666666666666666,
              "#ed7953"
             ],
             [
              0.7777777777777778,
              "#fb9f3a"
             ],
             [
              0.8888888888888888,
              "#fdca26"
             ],
             [
              1,
              "#f0f921"
             ]
            ],
            "type": "histogram2dcontour"
           }
          ],
          "mesh3d": [
           {
            "colorbar": {
             "outlinewidth": 0,
             "ticks": ""
            },
            "type": "mesh3d"
           }
          ],
          "parcoords": [
           {
            "line": {
             "colorbar": {
              "outlinewidth": 0,
              "ticks": ""
             }
            },
            "type": "parcoords"
           }
          ],
          "pie": [
           {
            "automargin": true,
            "type": "pie"
           }
          ],
          "scatter": [
           {
            "marker": {
             "colorbar": {
              "outlinewidth": 0,
              "ticks": ""
             }
            },
            "type": "scatter"
           }
          ],
          "scatter3d": [
           {
            "line": {
             "colorbar": {
              "outlinewidth": 0,
              "ticks": ""
             }
            },
            "marker": {
             "colorbar": {
              "outlinewidth": 0,
              "ticks": ""
             }
            },
            "type": "scatter3d"
           }
          ],
          "scattercarpet": [
           {
            "marker": {
             "colorbar": {
              "outlinewidth": 0,
              "ticks": ""
             }
            },
            "type": "scattercarpet"
           }
          ],
          "scattergeo": [
           {
            "marker": {
             "colorbar": {
              "outlinewidth": 0,
              "ticks": ""
             }
            },
            "type": "scattergeo"
           }
          ],
          "scattergl": [
           {
            "marker": {
             "colorbar": {
              "outlinewidth": 0,
              "ticks": ""
             }
            },
            "type": "scattergl"
           }
          ],
          "scattermapbox": [
           {
            "marker": {
             "colorbar": {
              "outlinewidth": 0,
              "ticks": ""
             }
            },
            "type": "scattermapbox"
           }
          ],
          "scatterpolar": [
           {
            "marker": {
             "colorbar": {
              "outlinewidth": 0,
              "ticks": ""
             }
            },
            "type": "scatterpolar"
           }
          ],
          "scatterpolargl": [
           {
            "marker": {
             "colorbar": {
              "outlinewidth": 0,
              "ticks": ""
             }
            },
            "type": "scatterpolargl"
           }
          ],
          "scatterternary": [
           {
            "marker": {
             "colorbar": {
              "outlinewidth": 0,
              "ticks": ""
             }
            },
            "type": "scatterternary"
           }
          ],
          "surface": [
           {
            "colorbar": {
             "outlinewidth": 0,
             "ticks": ""
            },
            "colorscale": [
             [
              0,
              "#0d0887"
             ],
             [
              0.1111111111111111,
              "#46039f"
             ],
             [
              0.2222222222222222,
              "#7201a8"
             ],
             [
              0.3333333333333333,
              "#9c179e"
             ],
             [
              0.4444444444444444,
              "#bd3786"
             ],
             [
              0.5555555555555556,
              "#d8576b"
             ],
             [
              0.6666666666666666,
              "#ed7953"
             ],
             [
              0.7777777777777778,
              "#fb9f3a"
             ],
             [
              0.8888888888888888,
              "#fdca26"
             ],
             [
              1,
              "#f0f921"
             ]
            ],
            "type": "surface"
           }
          ],
          "table": [
           {
            "cells": {
             "fill": {
              "color": "#EBF0F8"
             },
             "line": {
              "color": "white"
             }
            },
            "header": {
             "fill": {
              "color": "#C8D4E3"
             },
             "line": {
              "color": "white"
             }
            },
            "type": "table"
           }
          ]
         },
         "layout": {
          "annotationdefaults": {
           "arrowcolor": "#2a3f5f",
           "arrowhead": 0,
           "arrowwidth": 1
          },
          "autotypenumbers": "strict",
          "coloraxis": {
           "colorbar": {
            "outlinewidth": 0,
            "ticks": ""
           }
          },
          "colorscale": {
           "diverging": [
            [
             0,
             "#8e0152"
            ],
            [
             0.1,
             "#c51b7d"
            ],
            [
             0.2,
             "#de77ae"
            ],
            [
             0.3,
             "#f1b6da"
            ],
            [
             0.4,
             "#fde0ef"
            ],
            [
             0.5,
             "#f7f7f7"
            ],
            [
             0.6,
             "#e6f5d0"
            ],
            [
             0.7,
             "#b8e186"
            ],
            [
             0.8,
             "#7fbc41"
            ],
            [
             0.9,
             "#4d9221"
            ],
            [
             1,
             "#276419"
            ]
           ],
           "sequential": [
            [
             0,
             "#0d0887"
            ],
            [
             0.1111111111111111,
             "#46039f"
            ],
            [
             0.2222222222222222,
             "#7201a8"
            ],
            [
             0.3333333333333333,
             "#9c179e"
            ],
            [
             0.4444444444444444,
             "#bd3786"
            ],
            [
             0.5555555555555556,
             "#d8576b"
            ],
            [
             0.6666666666666666,
             "#ed7953"
            ],
            [
             0.7777777777777778,
             "#fb9f3a"
            ],
            [
             0.8888888888888888,
             "#fdca26"
            ],
            [
             1,
             "#f0f921"
            ]
           ],
           "sequentialminus": [
            [
             0,
             "#0d0887"
            ],
            [
             0.1111111111111111,
             "#46039f"
            ],
            [
             0.2222222222222222,
             "#7201a8"
            ],
            [
             0.3333333333333333,
             "#9c179e"
            ],
            [
             0.4444444444444444,
             "#bd3786"
            ],
            [
             0.5555555555555556,
             "#d8576b"
            ],
            [
             0.6666666666666666,
             "#ed7953"
            ],
            [
             0.7777777777777778,
             "#fb9f3a"
            ],
            [
             0.8888888888888888,
             "#fdca26"
            ],
            [
             1,
             "#f0f921"
            ]
           ]
          },
          "colorway": [
           "#636efa",
           "#EF553B",
           "#00cc96",
           "#ab63fa",
           "#FFA15A",
           "#19d3f3",
           "#FF6692",
           "#B6E880",
           "#FF97FF",
           "#FECB52"
          ],
          "font": {
           "color": "#2a3f5f"
          },
          "geo": {
           "bgcolor": "white",
           "lakecolor": "white",
           "landcolor": "#E5ECF6",
           "showlakes": true,
           "showland": true,
           "subunitcolor": "white"
          },
          "hoverlabel": {
           "align": "left"
          },
          "hovermode": "closest",
          "mapbox": {
           "style": "light"
          },
          "paper_bgcolor": "white",
          "plot_bgcolor": "#E5ECF6",
          "polar": {
           "angularaxis": {
            "gridcolor": "white",
            "linecolor": "white",
            "ticks": ""
           },
           "bgcolor": "#E5ECF6",
           "radialaxis": {
            "gridcolor": "white",
            "linecolor": "white",
            "ticks": ""
           }
          },
          "scene": {
           "xaxis": {
            "backgroundcolor": "#E5ECF6",
            "gridcolor": "white",
            "gridwidth": 2,
            "linecolor": "white",
            "showbackground": true,
            "ticks": "",
            "zerolinecolor": "white"
           },
           "yaxis": {
            "backgroundcolor": "#E5ECF6",
            "gridcolor": "white",
            "gridwidth": 2,
            "linecolor": "white",
            "showbackground": true,
            "ticks": "",
            "zerolinecolor": "white"
           },
           "zaxis": {
            "backgroundcolor": "#E5ECF6",
            "gridcolor": "white",
            "gridwidth": 2,
            "linecolor": "white",
            "showbackground": true,
            "ticks": "",
            "zerolinecolor": "white"
           }
          },
          "shapedefaults": {
           "line": {
            "color": "#2a3f5f"
           }
          },
          "ternary": {
           "aaxis": {
            "gridcolor": "white",
            "linecolor": "white",
            "ticks": ""
           },
           "baxis": {
            "gridcolor": "white",
            "linecolor": "white",
            "ticks": ""
           },
           "bgcolor": "#E5ECF6",
           "caxis": {
            "gridcolor": "white",
            "linecolor": "white",
            "ticks": ""
           }
          },
          "title": {
           "x": 0.05
          },
          "xaxis": {
           "automargin": true,
           "gridcolor": "white",
           "linecolor": "white",
           "ticks": "",
           "title": {
            "standoff": 15
           },
           "zerolinecolor": "white",
           "zerolinewidth": 2
          },
          "yaxis": {
           "automargin": true,
           "gridcolor": "white",
           "linecolor": "white",
           "ticks": "",
           "title": {
            "standoff": 15
           },
           "zerolinecolor": "white",
           "zerolinewidth": 2
          }
         }
        },
        "xaxis": {
         "anchor": "y",
         "domain": [
          0,
          1
         ],
         "title": {
          "text": "treatment"
         }
        },
        "yaxis": {
         "anchor": "x",
         "domain": [
          0,
          1
         ],
         "range": [
          0,
          1
         ],
         "title": {
          "text": "proportion of larvae survivimg at end of experiment"
         }
        }
       }
      },
      "text/html": [
       "<div>                            <div id=\"bede337c-901c-4ba8-a657-b8531f3238b8\" class=\"plotly-graph-div\" style=\"height:525px; width:100%;\"></div>            <script type=\"text/javascript\">                require([\"plotly\"], function(Plotly) {                    window.PLOTLYENV=window.PLOTLYENV || {};                                    if (document.getElementById(\"bede337c-901c-4ba8-a657-b8531f3238b8\")) {                    Plotly.newPlot(                        \"bede337c-901c-4ba8-a657-b8531f3238b8\",                        [{\"alignmentgroup\":\"True\",\"hovertemplate\":\"variable=proportion_alive<br>treatment=%{x}<br>value=%{y}<extra></extra>\",\"legendgroup\":\"proportion_alive\",\"marker\":{\"color\":\"#636efa\",\"pattern\":{\"shape\":\"\"}},\"name\":\"proportion_alive\",\"offsetgroup\":\"proportion_alive\",\"orientation\":\"v\",\"showlegend\":true,\"textposition\":\"auto\",\"type\":\"bar\",\"x\":[\"peat moss\",\"fecal pellets\",\"manure\",\"frass\"],\"xaxis\":\"x\",\"y\":[0.0,0.06060606060606061,0.7027027027027027,1.0],\"yaxis\":\"y\"}],                        {\"barmode\":\"relative\",\"legend\":{\"title\":{\"text\":\"variable\"},\"tracegroupgap\":0},\"margin\":{\"t\":60},\"showlegend\":false,\"template\":{\"data\":{\"bar\":[{\"error_x\":{\"color\":\"#2a3f5f\"},\"error_y\":{\"color\":\"#2a3f5f\"},\"marker\":{\"line\":{\"color\":\"#E5ECF6\",\"width\":0.5},\"pattern\":{\"fillmode\":\"overlay\",\"size\":10,\"solidity\":0.2}},\"type\":\"bar\"}],\"barpolar\":[{\"marker\":{\"line\":{\"color\":\"#E5ECF6\",\"width\":0.5},\"pattern\":{\"fillmode\":\"overlay\",\"size\":10,\"solidity\":0.2}},\"type\":\"barpolar\"}],\"carpet\":[{\"aaxis\":{\"endlinecolor\":\"#2a3f5f\",\"gridcolor\":\"white\",\"linecolor\":\"white\",\"minorgridcolor\":\"white\",\"startlinecolor\":\"#2a3f5f\"},\"baxis\":{\"endlinecolor\":\"#2a3f5f\",\"gridcolor\":\"white\",\"linecolor\":\"white\",\"minorgridcolor\":\"white\",\"startlinecolor\":\"#2a3f5f\"},\"type\":\"carpet\"}],\"choropleth\":[{\"colorbar\":{\"outlinewidth\":0,\"ticks\":\"\"},\"type\":\"choropleth\"}],\"contour\":[{\"colorbar\":{\"outlinewidth\":0,\"ticks\":\"\"},\"colorscale\":[[0.0,\"#0d0887\"],[0.1111111111111111,\"#46039f\"],[0.2222222222222222,\"#7201a8\"],[0.3333333333333333,\"#9c179e\"],[0.4444444444444444,\"#bd3786\"],[0.5555555555555556,\"#d8576b\"],[0.6666666666666666,\"#ed7953\"],[0.7777777777777778,\"#fb9f3a\"],[0.8888888888888888,\"#fdca26\"],[1.0,\"#f0f921\"]],\"type\":\"contour\"}],\"contourcarpet\":[{\"colorbar\":{\"outlinewidth\":0,\"ticks\":\"\"},\"type\":\"contourcarpet\"}],\"heatmap\":[{\"colorbar\":{\"outlinewidth\":0,\"ticks\":\"\"},\"colorscale\":[[0.0,\"#0d0887\"],[0.1111111111111111,\"#46039f\"],[0.2222222222222222,\"#7201a8\"],[0.3333333333333333,\"#9c179e\"],[0.4444444444444444,\"#bd3786\"],[0.5555555555555556,\"#d8576b\"],[0.6666666666666666,\"#ed7953\"],[0.7777777777777778,\"#fb9f3a\"],[0.8888888888888888,\"#fdca26\"],[1.0,\"#f0f921\"]],\"type\":\"heatmap\"}],\"heatmapgl\":[{\"colorbar\":{\"outlinewidth\":0,\"ticks\":\"\"},\"colorscale\":[[0.0,\"#0d0887\"],[0.1111111111111111,\"#46039f\"],[0.2222222222222222,\"#7201a8\"],[0.3333333333333333,\"#9c179e\"],[0.4444444444444444,\"#bd3786\"],[0.5555555555555556,\"#d8576b\"],[0.6666666666666666,\"#ed7953\"],[0.7777777777777778,\"#fb9f3a\"],[0.8888888888888888,\"#fdca26\"],[1.0,\"#f0f921\"]],\"type\":\"heatmapgl\"}],\"histogram\":[{\"marker\":{\"pattern\":{\"fillmode\":\"overlay\",\"size\":10,\"solidity\":0.2}},\"type\":\"histogram\"}],\"histogram2d\":[{\"colorbar\":{\"outlinewidth\":0,\"ticks\":\"\"},\"colorscale\":[[0.0,\"#0d0887\"],[0.1111111111111111,\"#46039f\"],[0.2222222222222222,\"#7201a8\"],[0.3333333333333333,\"#9c179e\"],[0.4444444444444444,\"#bd3786\"],[0.5555555555555556,\"#d8576b\"],[0.6666666666666666,\"#ed7953\"],[0.7777777777777778,\"#fb9f3a\"],[0.8888888888888888,\"#fdca26\"],[1.0,\"#f0f921\"]],\"type\":\"histogram2d\"}],\"histogram2dcontour\":[{\"colorbar\":{\"outlinewidth\":0,\"ticks\":\"\"},\"colorscale\":[[0.0,\"#0d0887\"],[0.1111111111111111,\"#46039f\"],[0.2222222222222222,\"#7201a8\"],[0.3333333333333333,\"#9c179e\"],[0.4444444444444444,\"#bd3786\"],[0.5555555555555556,\"#d8576b\"],[0.6666666666666666,\"#ed7953\"],[0.7777777777777778,\"#fb9f3a\"],[0.8888888888888888,\"#fdca26\"],[1.0,\"#f0f921\"]],\"type\":\"histogram2dcontour\"}],\"mesh3d\":[{\"colorbar\":{\"outlinewidth\":0,\"ticks\":\"\"},\"type\":\"mesh3d\"}],\"parcoords\":[{\"line\":{\"colorbar\":{\"outlinewidth\":0,\"ticks\":\"\"}},\"type\":\"parcoords\"}],\"pie\":[{\"automargin\":true,\"type\":\"pie\"}],\"scatter\":[{\"marker\":{\"colorbar\":{\"outlinewidth\":0,\"ticks\":\"\"}},\"type\":\"scatter\"}],\"scatter3d\":[{\"line\":{\"colorbar\":{\"outlinewidth\":0,\"ticks\":\"\"}},\"marker\":{\"colorbar\":{\"outlinewidth\":0,\"ticks\":\"\"}},\"type\":\"scatter3d\"}],\"scattercarpet\":[{\"marker\":{\"colorbar\":{\"outlinewidth\":0,\"ticks\":\"\"}},\"type\":\"scattercarpet\"}],\"scattergeo\":[{\"marker\":{\"colorbar\":{\"outlinewidth\":0,\"ticks\":\"\"}},\"type\":\"scattergeo\"}],\"scattergl\":[{\"marker\":{\"colorbar\":{\"outlinewidth\":0,\"ticks\":\"\"}},\"type\":\"scattergl\"}],\"scattermapbox\":[{\"marker\":{\"colorbar\":{\"outlinewidth\":0,\"ticks\":\"\"}},\"type\":\"scattermapbox\"}],\"scatterpolar\":[{\"marker\":{\"colorbar\":{\"outlinewidth\":0,\"ticks\":\"\"}},\"type\":\"scatterpolar\"}],\"scatterpolargl\":[{\"marker\":{\"colorbar\":{\"outlinewidth\":0,\"ticks\":\"\"}},\"type\":\"scatterpolargl\"}],\"scatterternary\":[{\"marker\":{\"colorbar\":{\"outlinewidth\":0,\"ticks\":\"\"}},\"type\":\"scatterternary\"}],\"surface\":[{\"colorbar\":{\"outlinewidth\":0,\"ticks\":\"\"},\"colorscale\":[[0.0,\"#0d0887\"],[0.1111111111111111,\"#46039f\"],[0.2222222222222222,\"#7201a8\"],[0.3333333333333333,\"#9c179e\"],[0.4444444444444444,\"#bd3786\"],[0.5555555555555556,\"#d8576b\"],[0.6666666666666666,\"#ed7953\"],[0.7777777777777778,\"#fb9f3a\"],[0.8888888888888888,\"#fdca26\"],[1.0,\"#f0f921\"]],\"type\":\"surface\"}],\"table\":[{\"cells\":{\"fill\":{\"color\":\"#EBF0F8\"},\"line\":{\"color\":\"white\"}},\"header\":{\"fill\":{\"color\":\"#C8D4E3\"},\"line\":{\"color\":\"white\"}},\"type\":\"table\"}]},\"layout\":{\"annotationdefaults\":{\"arrowcolor\":\"#2a3f5f\",\"arrowhead\":0,\"arrowwidth\":1},\"autotypenumbers\":\"strict\",\"coloraxis\":{\"colorbar\":{\"outlinewidth\":0,\"ticks\":\"\"}},\"colorscale\":{\"diverging\":[[0,\"#8e0152\"],[0.1,\"#c51b7d\"],[0.2,\"#de77ae\"],[0.3,\"#f1b6da\"],[0.4,\"#fde0ef\"],[0.5,\"#f7f7f7\"],[0.6,\"#e6f5d0\"],[0.7,\"#b8e186\"],[0.8,\"#7fbc41\"],[0.9,\"#4d9221\"],[1,\"#276419\"]],\"sequential\":[[0.0,\"#0d0887\"],[0.1111111111111111,\"#46039f\"],[0.2222222222222222,\"#7201a8\"],[0.3333333333333333,\"#9c179e\"],[0.4444444444444444,\"#bd3786\"],[0.5555555555555556,\"#d8576b\"],[0.6666666666666666,\"#ed7953\"],[0.7777777777777778,\"#fb9f3a\"],[0.8888888888888888,\"#fdca26\"],[1.0,\"#f0f921\"]],\"sequentialminus\":[[0.0,\"#0d0887\"],[0.1111111111111111,\"#46039f\"],[0.2222222222222222,\"#7201a8\"],[0.3333333333333333,\"#9c179e\"],[0.4444444444444444,\"#bd3786\"],[0.5555555555555556,\"#d8576b\"],[0.6666666666666666,\"#ed7953\"],[0.7777777777777778,\"#fb9f3a\"],[0.8888888888888888,\"#fdca26\"],[1.0,\"#f0f921\"]]},\"colorway\":[\"#636efa\",\"#EF553B\",\"#00cc96\",\"#ab63fa\",\"#FFA15A\",\"#19d3f3\",\"#FF6692\",\"#B6E880\",\"#FF97FF\",\"#FECB52\"],\"font\":{\"color\":\"#2a3f5f\"},\"geo\":{\"bgcolor\":\"white\",\"lakecolor\":\"white\",\"landcolor\":\"#E5ECF6\",\"showlakes\":true,\"showland\":true,\"subunitcolor\":\"white\"},\"hoverlabel\":{\"align\":\"left\"},\"hovermode\":\"closest\",\"mapbox\":{\"style\":\"light\"},\"paper_bgcolor\":\"white\",\"plot_bgcolor\":\"#E5ECF6\",\"polar\":{\"angularaxis\":{\"gridcolor\":\"white\",\"linecolor\":\"white\",\"ticks\":\"\"},\"bgcolor\":\"#E5ECF6\",\"radialaxis\":{\"gridcolor\":\"white\",\"linecolor\":\"white\",\"ticks\":\"\"}},\"scene\":{\"xaxis\":{\"backgroundcolor\":\"#E5ECF6\",\"gridcolor\":\"white\",\"gridwidth\":2,\"linecolor\":\"white\",\"showbackground\":true,\"ticks\":\"\",\"zerolinecolor\":\"white\"},\"yaxis\":{\"backgroundcolor\":\"#E5ECF6\",\"gridcolor\":\"white\",\"gridwidth\":2,\"linecolor\":\"white\",\"showbackground\":true,\"ticks\":\"\",\"zerolinecolor\":\"white\"},\"zaxis\":{\"backgroundcolor\":\"#E5ECF6\",\"gridcolor\":\"white\",\"gridwidth\":2,\"linecolor\":\"white\",\"showbackground\":true,\"ticks\":\"\",\"zerolinecolor\":\"white\"}},\"shapedefaults\":{\"line\":{\"color\":\"#2a3f5f\"}},\"ternary\":{\"aaxis\":{\"gridcolor\":\"white\",\"linecolor\":\"white\",\"ticks\":\"\"},\"baxis\":{\"gridcolor\":\"white\",\"linecolor\":\"white\",\"ticks\":\"\"},\"bgcolor\":\"#E5ECF6\",\"caxis\":{\"gridcolor\":\"white\",\"linecolor\":\"white\",\"ticks\":\"\"}},\"title\":{\"x\":0.05},\"xaxis\":{\"automargin\":true,\"gridcolor\":\"white\",\"linecolor\":\"white\",\"ticks\":\"\",\"title\":{\"standoff\":15},\"zerolinecolor\":\"white\",\"zerolinewidth\":2},\"yaxis\":{\"automargin\":true,\"gridcolor\":\"white\",\"linecolor\":\"white\",\"ticks\":\"\",\"title\":{\"standoff\":15},\"zerolinecolor\":\"white\",\"zerolinewidth\":2}}},\"xaxis\":{\"anchor\":\"y\",\"domain\":[0.0,1.0],\"title\":{\"text\":\"treatment\"}},\"yaxis\":{\"anchor\":\"x\",\"domain\":[0.0,1.0],\"range\":[0,1],\"title\":{\"text\":\"proportion of larvae survivimg at end of experiment\"}}},                        {\"responsive\": true}                    ).then(function(){\n",
       "                            \n",
       "var gd = document.getElementById('bede337c-901c-4ba8-a657-b8531f3238b8');\n",
       "var x = new MutationObserver(function (mutations, observer) {{\n",
       "        var display = window.getComputedStyle(gd).display;\n",
       "        if (!display || display === 'none') {{\n",
       "            console.log([gd, 'removed!']);\n",
       "            Plotly.purge(gd);\n",
       "            observer.disconnect();\n",
       "        }}\n",
       "}});\n",
       "\n",
       "// Listen for the removal of the full notebook cells\n",
       "var notebookContainer = gd.closest('#notebook-container');\n",
       "if (notebookContainer) {{\n",
       "    x.observe(notebookContainer, {childList: true});\n",
       "}}\n",
       "\n",
       "// Listen for the clearing of the current output cell\n",
       "var outputEl = gd.closest('.output');\n",
       "if (outputEl) {{\n",
       "    x.observe(outputEl, {childList: true});\n",
       "}}\n",
       "\n",
       "                        })                };                });            </script>        </div>"
      ]
     },
     "metadata": {},
     "output_type": "display_data"
    }
   ],
   "source": [
    "fig = x.plot(x='treatment', y='proportion_alive', kind='bar')\n",
    "fig.update_yaxes(range=[0,1], title='proportion of larvae survivimg at end of experiment')\n",
    "fig.layout.showlegend = False\n",
    "fig.show()\n",
    "fig.write_image(\"larval_survival_plot.png\")"
   ]
  },
  {
   "cell_type": "code",
   "execution_count": 36,
   "id": "f3aebe07",
   "metadata": {},
   "outputs": [
    {
     "name": "stdout",
     "output_type": "stream",
     "text": [
      "Chi2 result of the contingency table: 92.45587408140003, p-value: 6.501188043511334e-20\n",
      "\n",
      "Post-hoc chi2 tests results:\n",
      "('fecal pellets', 'frass'): p_value: 0.000000; corrected: 0.000000 (****) reject: True\n",
      "('fecal pellets', 'manure'): p_value: 0.000000; corrected: 0.000000 (****) reject: True\n",
      "('fecal pellets', 'peat moss'): p_value: 0.563092; corrected: 0.563092 (ns) reject: False\n",
      "('frass', 'manure'): p_value: 0.001747; corrected: 0.002096 (**) reject: True\n",
      "('frass', 'peat moss'): p_value: 0.000000; corrected: 0.000000 (****) reject: True\n",
      "('manure', 'peat moss'): p_value: 0.000000; corrected: 0.000000 (****) reject: True\n"
     ]
    }
   ],
   "source": [
    "chisq_test_wrapper.chisq_and_posthoc_corrected(larva_data)"
   ]
  },
  {
   "cell_type": "code",
   "execution_count": 37,
   "id": "1b72790a",
   "metadata": {},
   "outputs": [],
   "source": [
    "#dfi.export(df_N_dead_eggs, 'test_table.png')"
   ]
  },
  {
   "cell_type": "markdown",
   "id": "ad081ee9",
   "metadata": {},
   "source": [
    "### Larval mass at end of experiment"
   ]
  },
  {
   "cell_type": "code",
   "execution_count": 38,
   "id": "f6e30c6d",
   "metadata": {},
   "outputs": [
    {
     "data": {
      "text/html": [
       "<div>\n",
       "<style scoped>\n",
       "    .dataframe tbody tr th:only-of-type {\n",
       "        vertical-align: middle;\n",
       "    }\n",
       "\n",
       "    .dataframe tbody tr th {\n",
       "        vertical-align: top;\n",
       "    }\n",
       "\n",
       "    .dataframe thead th {\n",
       "        text-align: right;\n",
       "    }\n",
       "</style>\n",
       "<table border=\"1\" class=\"dataframe\">\n",
       "  <thead>\n",
       "    <tr style=\"text-align: right;\">\n",
       "      <th></th>\n",
       "      <th>treatment</th>\n",
       "      <th>N</th>\n",
       "      <th>mean</th>\n",
       "      <th>min</th>\n",
       "      <th>max</th>\n",
       "    </tr>\n",
       "  </thead>\n",
       "  <tbody>\n",
       "    <tr>\n",
       "      <th>0</th>\n",
       "      <td>fecal pellets</td>\n",
       "      <td>2</td>\n",
       "      <td>171.000000</td>\n",
       "      <td>141</td>\n",
       "      <td>201</td>\n",
       "    </tr>\n",
       "    <tr>\n",
       "      <th>1</th>\n",
       "      <td>manure</td>\n",
       "      <td>26</td>\n",
       "      <td>2462.038462</td>\n",
       "      <td>108</td>\n",
       "      <td>7335</td>\n",
       "    </tr>\n",
       "    <tr>\n",
       "      <th>2</th>\n",
       "      <td>frass</td>\n",
       "      <td>34</td>\n",
       "      <td>4777.500000</td>\n",
       "      <td>1965</td>\n",
       "      <td>7592</td>\n",
       "    </tr>\n",
       "  </tbody>\n",
       "</table>\n",
       "</div>"
      ],
      "text/plain": [
       "       treatment   N         mean   min   max\n",
       "0  fecal pellets   2   171.000000   141   201\n",
       "1         manure  26  2462.038462   108  7335\n",
       "2          frass  34  4777.500000  1965  7592"
      ]
     },
     "execution_count": 38,
     "metadata": {},
     "output_type": "execute_result"
    }
   ],
   "source": [
    "# Calculate mean weight for surviving larvae at end of experiment\n",
    "\n",
    "q = \"\"\"\n",
    "SELECT treatment, COUNT(*) AS N, AVG(mass) AS mean, MIN(mass) as min, MAX(mass) AS max\n",
    "FROM df_endpoint \n",
    "WHERE status == 'larva'\n",
    "GROUP BY treatment\n",
    "ORDER BY mean;\n",
    "\"\"\"\n",
    "x = sqldf(q, globals())\n",
    "dfi.export(x, 'larval_mass_table.png')\n",
    "x"
   ]
  },
  {
   "cell_type": "code",
   "execution_count": 39,
   "id": "1f0b8c13",
   "metadata": {},
   "outputs": [
    {
     "data": {
      "application/vnd.plotly.v1+json": {
       "config": {
        "plotlyServerURL": "https://plot.ly"
       },
       "data": [
        {
         "alignmentgroup": "True",
         "boxpoints": "all",
         "hovertemplate": "treatment=%{x}<br>mass=%{y}<extra></extra>",
         "legendgroup": "",
         "marker": {
          "color": "#636efa"
         },
         "name": "",
         "notched": false,
         "offsetgroup": "",
         "orientation": "v",
         "showlegend": false,
         "type": "box",
         "x": [
          "manure",
          "manure",
          "manure",
          "manure",
          "manure",
          "manure",
          "manure",
          "manure",
          "manure",
          "manure",
          "manure",
          "manure",
          "manure",
          "manure",
          "manure",
          "manure",
          "manure",
          "manure",
          "manure",
          "manure",
          "manure",
          "manure",
          "manure",
          "manure",
          "manure",
          "manure",
          "frass",
          "frass",
          "frass",
          "frass",
          "frass",
          "frass",
          "frass",
          "frass",
          "frass",
          "frass",
          "frass",
          "frass",
          "frass",
          "frass",
          "frass",
          "frass",
          "frass",
          "frass",
          "frass",
          "frass",
          "frass",
          "frass",
          "frass",
          "frass",
          "frass",
          "frass",
          "frass",
          "frass",
          "frass",
          "frass",
          "frass",
          "frass",
          "frass",
          "frass",
          "fecal pellets",
          "fecal pellets"
         ],
         "x0": " ",
         "xaxis": "x",
         "y": [
          7335,
          181,
          366,
          6163,
          472,
          1583,
          236,
          1478,
          328,
          158,
          6687,
          5417,
          209,
          1234,
          364,
          6306,
          6117,
          4315,
          6361,
          261,
          595,
          7001,
          108,
          263,
          287,
          188,
          5260,
          2594,
          5077,
          5320,
          4542,
          3258,
          3218,
          6213,
          7592,
          5097,
          5289,
          1965,
          6467,
          6523,
          6519,
          5270,
          7447,
          6216,
          4668,
          4268,
          2923,
          5735,
          4934,
          4698,
          2953,
          4145,
          5756,
          4528,
          3086,
          3061,
          3428,
          4443,
          4800,
          5142,
          141,
          201
         ],
         "y0": " ",
         "yaxis": "y"
        }
       ],
       "layout": {
        "boxmode": "group",
        "legend": {
         "tracegroupgap": 0
        },
        "margin": {
         "t": 60
        },
        "template": {
         "data": {
          "bar": [
           {
            "error_x": {
             "color": "#2a3f5f"
            },
            "error_y": {
             "color": "#2a3f5f"
            },
            "marker": {
             "line": {
              "color": "#E5ECF6",
              "width": 0.5
             },
             "pattern": {
              "fillmode": "overlay",
              "size": 10,
              "solidity": 0.2
             }
            },
            "type": "bar"
           }
          ],
          "barpolar": [
           {
            "marker": {
             "line": {
              "color": "#E5ECF6",
              "width": 0.5
             },
             "pattern": {
              "fillmode": "overlay",
              "size": 10,
              "solidity": 0.2
             }
            },
            "type": "barpolar"
           }
          ],
          "carpet": [
           {
            "aaxis": {
             "endlinecolor": "#2a3f5f",
             "gridcolor": "white",
             "linecolor": "white",
             "minorgridcolor": "white",
             "startlinecolor": "#2a3f5f"
            },
            "baxis": {
             "endlinecolor": "#2a3f5f",
             "gridcolor": "white",
             "linecolor": "white",
             "minorgridcolor": "white",
             "startlinecolor": "#2a3f5f"
            },
            "type": "carpet"
           }
          ],
          "choropleth": [
           {
            "colorbar": {
             "outlinewidth": 0,
             "ticks": ""
            },
            "type": "choropleth"
           }
          ],
          "contour": [
           {
            "colorbar": {
             "outlinewidth": 0,
             "ticks": ""
            },
            "colorscale": [
             [
              0,
              "#0d0887"
             ],
             [
              0.1111111111111111,
              "#46039f"
             ],
             [
              0.2222222222222222,
              "#7201a8"
             ],
             [
              0.3333333333333333,
              "#9c179e"
             ],
             [
              0.4444444444444444,
              "#bd3786"
             ],
             [
              0.5555555555555556,
              "#d8576b"
             ],
             [
              0.6666666666666666,
              "#ed7953"
             ],
             [
              0.7777777777777778,
              "#fb9f3a"
             ],
             [
              0.8888888888888888,
              "#fdca26"
             ],
             [
              1,
              "#f0f921"
             ]
            ],
            "type": "contour"
           }
          ],
          "contourcarpet": [
           {
            "colorbar": {
             "outlinewidth": 0,
             "ticks": ""
            },
            "type": "contourcarpet"
           }
          ],
          "heatmap": [
           {
            "colorbar": {
             "outlinewidth": 0,
             "ticks": ""
            },
            "colorscale": [
             [
              0,
              "#0d0887"
             ],
             [
              0.1111111111111111,
              "#46039f"
             ],
             [
              0.2222222222222222,
              "#7201a8"
             ],
             [
              0.3333333333333333,
              "#9c179e"
             ],
             [
              0.4444444444444444,
              "#bd3786"
             ],
             [
              0.5555555555555556,
              "#d8576b"
             ],
             [
              0.6666666666666666,
              "#ed7953"
             ],
             [
              0.7777777777777778,
              "#fb9f3a"
             ],
             [
              0.8888888888888888,
              "#fdca26"
             ],
             [
              1,
              "#f0f921"
             ]
            ],
            "type": "heatmap"
           }
          ],
          "heatmapgl": [
           {
            "colorbar": {
             "outlinewidth": 0,
             "ticks": ""
            },
            "colorscale": [
             [
              0,
              "#0d0887"
             ],
             [
              0.1111111111111111,
              "#46039f"
             ],
             [
              0.2222222222222222,
              "#7201a8"
             ],
             [
              0.3333333333333333,
              "#9c179e"
             ],
             [
              0.4444444444444444,
              "#bd3786"
             ],
             [
              0.5555555555555556,
              "#d8576b"
             ],
             [
              0.6666666666666666,
              "#ed7953"
             ],
             [
              0.7777777777777778,
              "#fb9f3a"
             ],
             [
              0.8888888888888888,
              "#fdca26"
             ],
             [
              1,
              "#f0f921"
             ]
            ],
            "type": "heatmapgl"
           }
          ],
          "histogram": [
           {
            "marker": {
             "pattern": {
              "fillmode": "overlay",
              "size": 10,
              "solidity": 0.2
             }
            },
            "type": "histogram"
           }
          ],
          "histogram2d": [
           {
            "colorbar": {
             "outlinewidth": 0,
             "ticks": ""
            },
            "colorscale": [
             [
              0,
              "#0d0887"
             ],
             [
              0.1111111111111111,
              "#46039f"
             ],
             [
              0.2222222222222222,
              "#7201a8"
             ],
             [
              0.3333333333333333,
              "#9c179e"
             ],
             [
              0.4444444444444444,
              "#bd3786"
             ],
             [
              0.5555555555555556,
              "#d8576b"
             ],
             [
              0.6666666666666666,
              "#ed7953"
             ],
             [
              0.7777777777777778,
              "#fb9f3a"
             ],
             [
              0.8888888888888888,
              "#fdca26"
             ],
             [
              1,
              "#f0f921"
             ]
            ],
            "type": "histogram2d"
           }
          ],
          "histogram2dcontour": [
           {
            "colorbar": {
             "outlinewidth": 0,
             "ticks": ""
            },
            "colorscale": [
             [
              0,
              "#0d0887"
             ],
             [
              0.1111111111111111,
              "#46039f"
             ],
             [
              0.2222222222222222,
              "#7201a8"
             ],
             [
              0.3333333333333333,
              "#9c179e"
             ],
             [
              0.4444444444444444,
              "#bd3786"
             ],
             [
              0.5555555555555556,
              "#d8576b"
             ],
             [
              0.6666666666666666,
              "#ed7953"
             ],
             [
              0.7777777777777778,
              "#fb9f3a"
             ],
             [
              0.8888888888888888,
              "#fdca26"
             ],
             [
              1,
              "#f0f921"
             ]
            ],
            "type": "histogram2dcontour"
           }
          ],
          "mesh3d": [
           {
            "colorbar": {
             "outlinewidth": 0,
             "ticks": ""
            },
            "type": "mesh3d"
           }
          ],
          "parcoords": [
           {
            "line": {
             "colorbar": {
              "outlinewidth": 0,
              "ticks": ""
             }
            },
            "type": "parcoords"
           }
          ],
          "pie": [
           {
            "automargin": true,
            "type": "pie"
           }
          ],
          "scatter": [
           {
            "marker": {
             "colorbar": {
              "outlinewidth": 0,
              "ticks": ""
             }
            },
            "type": "scatter"
           }
          ],
          "scatter3d": [
           {
            "line": {
             "colorbar": {
              "outlinewidth": 0,
              "ticks": ""
             }
            },
            "marker": {
             "colorbar": {
              "outlinewidth": 0,
              "ticks": ""
             }
            },
            "type": "scatter3d"
           }
          ],
          "scattercarpet": [
           {
            "marker": {
             "colorbar": {
              "outlinewidth": 0,
              "ticks": ""
             }
            },
            "type": "scattercarpet"
           }
          ],
          "scattergeo": [
           {
            "marker": {
             "colorbar": {
              "outlinewidth": 0,
              "ticks": ""
             }
            },
            "type": "scattergeo"
           }
          ],
          "scattergl": [
           {
            "marker": {
             "colorbar": {
              "outlinewidth": 0,
              "ticks": ""
             }
            },
            "type": "scattergl"
           }
          ],
          "scattermapbox": [
           {
            "marker": {
             "colorbar": {
              "outlinewidth": 0,
              "ticks": ""
             }
            },
            "type": "scattermapbox"
           }
          ],
          "scatterpolar": [
           {
            "marker": {
             "colorbar": {
              "outlinewidth": 0,
              "ticks": ""
             }
            },
            "type": "scatterpolar"
           }
          ],
          "scatterpolargl": [
           {
            "marker": {
             "colorbar": {
              "outlinewidth": 0,
              "ticks": ""
             }
            },
            "type": "scatterpolargl"
           }
          ],
          "scatterternary": [
           {
            "marker": {
             "colorbar": {
              "outlinewidth": 0,
              "ticks": ""
             }
            },
            "type": "scatterternary"
           }
          ],
          "surface": [
           {
            "colorbar": {
             "outlinewidth": 0,
             "ticks": ""
            },
            "colorscale": [
             [
              0,
              "#0d0887"
             ],
             [
              0.1111111111111111,
              "#46039f"
             ],
             [
              0.2222222222222222,
              "#7201a8"
             ],
             [
              0.3333333333333333,
              "#9c179e"
             ],
             [
              0.4444444444444444,
              "#bd3786"
             ],
             [
              0.5555555555555556,
              "#d8576b"
             ],
             [
              0.6666666666666666,
              "#ed7953"
             ],
             [
              0.7777777777777778,
              "#fb9f3a"
             ],
             [
              0.8888888888888888,
              "#fdca26"
             ],
             [
              1,
              "#f0f921"
             ]
            ],
            "type": "surface"
           }
          ],
          "table": [
           {
            "cells": {
             "fill": {
              "color": "#EBF0F8"
             },
             "line": {
              "color": "white"
             }
            },
            "header": {
             "fill": {
              "color": "#C8D4E3"
             },
             "line": {
              "color": "white"
             }
            },
            "type": "table"
           }
          ]
         },
         "layout": {
          "annotationdefaults": {
           "arrowcolor": "#2a3f5f",
           "arrowhead": 0,
           "arrowwidth": 1
          },
          "autotypenumbers": "strict",
          "coloraxis": {
           "colorbar": {
            "outlinewidth": 0,
            "ticks": ""
           }
          },
          "colorscale": {
           "diverging": [
            [
             0,
             "#8e0152"
            ],
            [
             0.1,
             "#c51b7d"
            ],
            [
             0.2,
             "#de77ae"
            ],
            [
             0.3,
             "#f1b6da"
            ],
            [
             0.4,
             "#fde0ef"
            ],
            [
             0.5,
             "#f7f7f7"
            ],
            [
             0.6,
             "#e6f5d0"
            ],
            [
             0.7,
             "#b8e186"
            ],
            [
             0.8,
             "#7fbc41"
            ],
            [
             0.9,
             "#4d9221"
            ],
            [
             1,
             "#276419"
            ]
           ],
           "sequential": [
            [
             0,
             "#0d0887"
            ],
            [
             0.1111111111111111,
             "#46039f"
            ],
            [
             0.2222222222222222,
             "#7201a8"
            ],
            [
             0.3333333333333333,
             "#9c179e"
            ],
            [
             0.4444444444444444,
             "#bd3786"
            ],
            [
             0.5555555555555556,
             "#d8576b"
            ],
            [
             0.6666666666666666,
             "#ed7953"
            ],
            [
             0.7777777777777778,
             "#fb9f3a"
            ],
            [
             0.8888888888888888,
             "#fdca26"
            ],
            [
             1,
             "#f0f921"
            ]
           ],
           "sequentialminus": [
            [
             0,
             "#0d0887"
            ],
            [
             0.1111111111111111,
             "#46039f"
            ],
            [
             0.2222222222222222,
             "#7201a8"
            ],
            [
             0.3333333333333333,
             "#9c179e"
            ],
            [
             0.4444444444444444,
             "#bd3786"
            ],
            [
             0.5555555555555556,
             "#d8576b"
            ],
            [
             0.6666666666666666,
             "#ed7953"
            ],
            [
             0.7777777777777778,
             "#fb9f3a"
            ],
            [
             0.8888888888888888,
             "#fdca26"
            ],
            [
             1,
             "#f0f921"
            ]
           ]
          },
          "colorway": [
           "#636efa",
           "#EF553B",
           "#00cc96",
           "#ab63fa",
           "#FFA15A",
           "#19d3f3",
           "#FF6692",
           "#B6E880",
           "#FF97FF",
           "#FECB52"
          ],
          "font": {
           "color": "#2a3f5f"
          },
          "geo": {
           "bgcolor": "white",
           "lakecolor": "white",
           "landcolor": "#E5ECF6",
           "showlakes": true,
           "showland": true,
           "subunitcolor": "white"
          },
          "hoverlabel": {
           "align": "left"
          },
          "hovermode": "closest",
          "mapbox": {
           "style": "light"
          },
          "paper_bgcolor": "white",
          "plot_bgcolor": "#E5ECF6",
          "polar": {
           "angularaxis": {
            "gridcolor": "white",
            "linecolor": "white",
            "ticks": ""
           },
           "bgcolor": "#E5ECF6",
           "radialaxis": {
            "gridcolor": "white",
            "linecolor": "white",
            "ticks": ""
           }
          },
          "scene": {
           "xaxis": {
            "backgroundcolor": "#E5ECF6",
            "gridcolor": "white",
            "gridwidth": 2,
            "linecolor": "white",
            "showbackground": true,
            "ticks": "",
            "zerolinecolor": "white"
           },
           "yaxis": {
            "backgroundcolor": "#E5ECF6",
            "gridcolor": "white",
            "gridwidth": 2,
            "linecolor": "white",
            "showbackground": true,
            "ticks": "",
            "zerolinecolor": "white"
           },
           "zaxis": {
            "backgroundcolor": "#E5ECF6",
            "gridcolor": "white",
            "gridwidth": 2,
            "linecolor": "white",
            "showbackground": true,
            "ticks": "",
            "zerolinecolor": "white"
           }
          },
          "shapedefaults": {
           "line": {
            "color": "#2a3f5f"
           }
          },
          "ternary": {
           "aaxis": {
            "gridcolor": "white",
            "linecolor": "white",
            "ticks": ""
           },
           "baxis": {
            "gridcolor": "white",
            "linecolor": "white",
            "ticks": ""
           },
           "bgcolor": "#E5ECF6",
           "caxis": {
            "gridcolor": "white",
            "linecolor": "white",
            "ticks": ""
           }
          },
          "title": {
           "x": 0.05
          },
          "xaxis": {
           "automargin": true,
           "gridcolor": "white",
           "linecolor": "white",
           "ticks": "",
           "title": {
            "standoff": 15
           },
           "zerolinecolor": "white",
           "zerolinewidth": 2
          },
          "yaxis": {
           "automargin": true,
           "gridcolor": "white",
           "linecolor": "white",
           "ticks": "",
           "title": {
            "standoff": 15
           },
           "zerolinecolor": "white",
           "zerolinewidth": 2
          }
         }
        },
        "xaxis": {
         "anchor": "y",
         "categoryarray": [
          "fecal pellets",
          "manure",
          "frass"
         ],
         "categoryorder": "array",
         "domain": [
          0,
          1
         ],
         "title": {
          "text": "treatment"
         }
        },
        "yaxis": {
         "anchor": "x",
         "domain": [
          0,
          1
         ],
         "title": {
          "text": "mass"
         }
        }
       }
      },
      "text/html": [
       "<div>                            <div id=\"f7047cb3-1b95-4e1a-8df0-8e6097a83265\" class=\"plotly-graph-div\" style=\"height:525px; width:100%;\"></div>            <script type=\"text/javascript\">                require([\"plotly\"], function(Plotly) {                    window.PLOTLYENV=window.PLOTLYENV || {};                                    if (document.getElementById(\"f7047cb3-1b95-4e1a-8df0-8e6097a83265\")) {                    Plotly.newPlot(                        \"f7047cb3-1b95-4e1a-8df0-8e6097a83265\",                        [{\"alignmentgroup\":\"True\",\"boxpoints\":\"all\",\"hovertemplate\":\"treatment=%{x}<br>mass=%{y}<extra></extra>\",\"legendgroup\":\"\",\"marker\":{\"color\":\"#636efa\"},\"name\":\"\",\"notched\":false,\"offsetgroup\":\"\",\"orientation\":\"v\",\"showlegend\":false,\"type\":\"box\",\"x\":[\"manure\",\"manure\",\"manure\",\"manure\",\"manure\",\"manure\",\"manure\",\"manure\",\"manure\",\"manure\",\"manure\",\"manure\",\"manure\",\"manure\",\"manure\",\"manure\",\"manure\",\"manure\",\"manure\",\"manure\",\"manure\",\"manure\",\"manure\",\"manure\",\"manure\",\"manure\",\"frass\",\"frass\",\"frass\",\"frass\",\"frass\",\"frass\",\"frass\",\"frass\",\"frass\",\"frass\",\"frass\",\"frass\",\"frass\",\"frass\",\"frass\",\"frass\",\"frass\",\"frass\",\"frass\",\"frass\",\"frass\",\"frass\",\"frass\",\"frass\",\"frass\",\"frass\",\"frass\",\"frass\",\"frass\",\"frass\",\"frass\",\"frass\",\"frass\",\"frass\",\"fecal pellets\",\"fecal pellets\"],\"x0\":\" \",\"xaxis\":\"x\",\"y\":[7335,181,366,6163,472,1583,236,1478,328,158,6687,5417,209,1234,364,6306,6117,4315,6361,261,595,7001,108,263,287,188,5260,2594,5077,5320,4542,3258,3218,6213,7592,5097,5289,1965,6467,6523,6519,5270,7447,6216,4668,4268,2923,5735,4934,4698,2953,4145,5756,4528,3086,3061,3428,4443,4800,5142,141,201],\"y0\":\" \",\"yaxis\":\"y\"}],                        {\"boxmode\":\"group\",\"legend\":{\"tracegroupgap\":0},\"margin\":{\"t\":60},\"template\":{\"data\":{\"bar\":[{\"error_x\":{\"color\":\"#2a3f5f\"},\"error_y\":{\"color\":\"#2a3f5f\"},\"marker\":{\"line\":{\"color\":\"#E5ECF6\",\"width\":0.5},\"pattern\":{\"fillmode\":\"overlay\",\"size\":10,\"solidity\":0.2}},\"type\":\"bar\"}],\"barpolar\":[{\"marker\":{\"line\":{\"color\":\"#E5ECF6\",\"width\":0.5},\"pattern\":{\"fillmode\":\"overlay\",\"size\":10,\"solidity\":0.2}},\"type\":\"barpolar\"}],\"carpet\":[{\"aaxis\":{\"endlinecolor\":\"#2a3f5f\",\"gridcolor\":\"white\",\"linecolor\":\"white\",\"minorgridcolor\":\"white\",\"startlinecolor\":\"#2a3f5f\"},\"baxis\":{\"endlinecolor\":\"#2a3f5f\",\"gridcolor\":\"white\",\"linecolor\":\"white\",\"minorgridcolor\":\"white\",\"startlinecolor\":\"#2a3f5f\"},\"type\":\"carpet\"}],\"choropleth\":[{\"colorbar\":{\"outlinewidth\":0,\"ticks\":\"\"},\"type\":\"choropleth\"}],\"contour\":[{\"colorbar\":{\"outlinewidth\":0,\"ticks\":\"\"},\"colorscale\":[[0.0,\"#0d0887\"],[0.1111111111111111,\"#46039f\"],[0.2222222222222222,\"#7201a8\"],[0.3333333333333333,\"#9c179e\"],[0.4444444444444444,\"#bd3786\"],[0.5555555555555556,\"#d8576b\"],[0.6666666666666666,\"#ed7953\"],[0.7777777777777778,\"#fb9f3a\"],[0.8888888888888888,\"#fdca26\"],[1.0,\"#f0f921\"]],\"type\":\"contour\"}],\"contourcarpet\":[{\"colorbar\":{\"outlinewidth\":0,\"ticks\":\"\"},\"type\":\"contourcarpet\"}],\"heatmap\":[{\"colorbar\":{\"outlinewidth\":0,\"ticks\":\"\"},\"colorscale\":[[0.0,\"#0d0887\"],[0.1111111111111111,\"#46039f\"],[0.2222222222222222,\"#7201a8\"],[0.3333333333333333,\"#9c179e\"],[0.4444444444444444,\"#bd3786\"],[0.5555555555555556,\"#d8576b\"],[0.6666666666666666,\"#ed7953\"],[0.7777777777777778,\"#fb9f3a\"],[0.8888888888888888,\"#fdca26\"],[1.0,\"#f0f921\"]],\"type\":\"heatmap\"}],\"heatmapgl\":[{\"colorbar\":{\"outlinewidth\":0,\"ticks\":\"\"},\"colorscale\":[[0.0,\"#0d0887\"],[0.1111111111111111,\"#46039f\"],[0.2222222222222222,\"#7201a8\"],[0.3333333333333333,\"#9c179e\"],[0.4444444444444444,\"#bd3786\"],[0.5555555555555556,\"#d8576b\"],[0.6666666666666666,\"#ed7953\"],[0.7777777777777778,\"#fb9f3a\"],[0.8888888888888888,\"#fdca26\"],[1.0,\"#f0f921\"]],\"type\":\"heatmapgl\"}],\"histogram\":[{\"marker\":{\"pattern\":{\"fillmode\":\"overlay\",\"size\":10,\"solidity\":0.2}},\"type\":\"histogram\"}],\"histogram2d\":[{\"colorbar\":{\"outlinewidth\":0,\"ticks\":\"\"},\"colorscale\":[[0.0,\"#0d0887\"],[0.1111111111111111,\"#46039f\"],[0.2222222222222222,\"#7201a8\"],[0.3333333333333333,\"#9c179e\"],[0.4444444444444444,\"#bd3786\"],[0.5555555555555556,\"#d8576b\"],[0.6666666666666666,\"#ed7953\"],[0.7777777777777778,\"#fb9f3a\"],[0.8888888888888888,\"#fdca26\"],[1.0,\"#f0f921\"]],\"type\":\"histogram2d\"}],\"histogram2dcontour\":[{\"colorbar\":{\"outlinewidth\":0,\"ticks\":\"\"},\"colorscale\":[[0.0,\"#0d0887\"],[0.1111111111111111,\"#46039f\"],[0.2222222222222222,\"#7201a8\"],[0.3333333333333333,\"#9c179e\"],[0.4444444444444444,\"#bd3786\"],[0.5555555555555556,\"#d8576b\"],[0.6666666666666666,\"#ed7953\"],[0.7777777777777778,\"#fb9f3a\"],[0.8888888888888888,\"#fdca26\"],[1.0,\"#f0f921\"]],\"type\":\"histogram2dcontour\"}],\"mesh3d\":[{\"colorbar\":{\"outlinewidth\":0,\"ticks\":\"\"},\"type\":\"mesh3d\"}],\"parcoords\":[{\"line\":{\"colorbar\":{\"outlinewidth\":0,\"ticks\":\"\"}},\"type\":\"parcoords\"}],\"pie\":[{\"automargin\":true,\"type\":\"pie\"}],\"scatter\":[{\"marker\":{\"colorbar\":{\"outlinewidth\":0,\"ticks\":\"\"}},\"type\":\"scatter\"}],\"scatter3d\":[{\"line\":{\"colorbar\":{\"outlinewidth\":0,\"ticks\":\"\"}},\"marker\":{\"colorbar\":{\"outlinewidth\":0,\"ticks\":\"\"}},\"type\":\"scatter3d\"}],\"scattercarpet\":[{\"marker\":{\"colorbar\":{\"outlinewidth\":0,\"ticks\":\"\"}},\"type\":\"scattercarpet\"}],\"scattergeo\":[{\"marker\":{\"colorbar\":{\"outlinewidth\":0,\"ticks\":\"\"}},\"type\":\"scattergeo\"}],\"scattergl\":[{\"marker\":{\"colorbar\":{\"outlinewidth\":0,\"ticks\":\"\"}},\"type\":\"scattergl\"}],\"scattermapbox\":[{\"marker\":{\"colorbar\":{\"outlinewidth\":0,\"ticks\":\"\"}},\"type\":\"scattermapbox\"}],\"scatterpolar\":[{\"marker\":{\"colorbar\":{\"outlinewidth\":0,\"ticks\":\"\"}},\"type\":\"scatterpolar\"}],\"scatterpolargl\":[{\"marker\":{\"colorbar\":{\"outlinewidth\":0,\"ticks\":\"\"}},\"type\":\"scatterpolargl\"}],\"scatterternary\":[{\"marker\":{\"colorbar\":{\"outlinewidth\":0,\"ticks\":\"\"}},\"type\":\"scatterternary\"}],\"surface\":[{\"colorbar\":{\"outlinewidth\":0,\"ticks\":\"\"},\"colorscale\":[[0.0,\"#0d0887\"],[0.1111111111111111,\"#46039f\"],[0.2222222222222222,\"#7201a8\"],[0.3333333333333333,\"#9c179e\"],[0.4444444444444444,\"#bd3786\"],[0.5555555555555556,\"#d8576b\"],[0.6666666666666666,\"#ed7953\"],[0.7777777777777778,\"#fb9f3a\"],[0.8888888888888888,\"#fdca26\"],[1.0,\"#f0f921\"]],\"type\":\"surface\"}],\"table\":[{\"cells\":{\"fill\":{\"color\":\"#EBF0F8\"},\"line\":{\"color\":\"white\"}},\"header\":{\"fill\":{\"color\":\"#C8D4E3\"},\"line\":{\"color\":\"white\"}},\"type\":\"table\"}]},\"layout\":{\"annotationdefaults\":{\"arrowcolor\":\"#2a3f5f\",\"arrowhead\":0,\"arrowwidth\":1},\"autotypenumbers\":\"strict\",\"coloraxis\":{\"colorbar\":{\"outlinewidth\":0,\"ticks\":\"\"}},\"colorscale\":{\"diverging\":[[0,\"#8e0152\"],[0.1,\"#c51b7d\"],[0.2,\"#de77ae\"],[0.3,\"#f1b6da\"],[0.4,\"#fde0ef\"],[0.5,\"#f7f7f7\"],[0.6,\"#e6f5d0\"],[0.7,\"#b8e186\"],[0.8,\"#7fbc41\"],[0.9,\"#4d9221\"],[1,\"#276419\"]],\"sequential\":[[0.0,\"#0d0887\"],[0.1111111111111111,\"#46039f\"],[0.2222222222222222,\"#7201a8\"],[0.3333333333333333,\"#9c179e\"],[0.4444444444444444,\"#bd3786\"],[0.5555555555555556,\"#d8576b\"],[0.6666666666666666,\"#ed7953\"],[0.7777777777777778,\"#fb9f3a\"],[0.8888888888888888,\"#fdca26\"],[1.0,\"#f0f921\"]],\"sequentialminus\":[[0.0,\"#0d0887\"],[0.1111111111111111,\"#46039f\"],[0.2222222222222222,\"#7201a8\"],[0.3333333333333333,\"#9c179e\"],[0.4444444444444444,\"#bd3786\"],[0.5555555555555556,\"#d8576b\"],[0.6666666666666666,\"#ed7953\"],[0.7777777777777778,\"#fb9f3a\"],[0.8888888888888888,\"#fdca26\"],[1.0,\"#f0f921\"]]},\"colorway\":[\"#636efa\",\"#EF553B\",\"#00cc96\",\"#ab63fa\",\"#FFA15A\",\"#19d3f3\",\"#FF6692\",\"#B6E880\",\"#FF97FF\",\"#FECB52\"],\"font\":{\"color\":\"#2a3f5f\"},\"geo\":{\"bgcolor\":\"white\",\"lakecolor\":\"white\",\"landcolor\":\"#E5ECF6\",\"showlakes\":true,\"showland\":true,\"subunitcolor\":\"white\"},\"hoverlabel\":{\"align\":\"left\"},\"hovermode\":\"closest\",\"mapbox\":{\"style\":\"light\"},\"paper_bgcolor\":\"white\",\"plot_bgcolor\":\"#E5ECF6\",\"polar\":{\"angularaxis\":{\"gridcolor\":\"white\",\"linecolor\":\"white\",\"ticks\":\"\"},\"bgcolor\":\"#E5ECF6\",\"radialaxis\":{\"gridcolor\":\"white\",\"linecolor\":\"white\",\"ticks\":\"\"}},\"scene\":{\"xaxis\":{\"backgroundcolor\":\"#E5ECF6\",\"gridcolor\":\"white\",\"gridwidth\":2,\"linecolor\":\"white\",\"showbackground\":true,\"ticks\":\"\",\"zerolinecolor\":\"white\"},\"yaxis\":{\"backgroundcolor\":\"#E5ECF6\",\"gridcolor\":\"white\",\"gridwidth\":2,\"linecolor\":\"white\",\"showbackground\":true,\"ticks\":\"\",\"zerolinecolor\":\"white\"},\"zaxis\":{\"backgroundcolor\":\"#E5ECF6\",\"gridcolor\":\"white\",\"gridwidth\":2,\"linecolor\":\"white\",\"showbackground\":true,\"ticks\":\"\",\"zerolinecolor\":\"white\"}},\"shapedefaults\":{\"line\":{\"color\":\"#2a3f5f\"}},\"ternary\":{\"aaxis\":{\"gridcolor\":\"white\",\"linecolor\":\"white\",\"ticks\":\"\"},\"baxis\":{\"gridcolor\":\"white\",\"linecolor\":\"white\",\"ticks\":\"\"},\"bgcolor\":\"#E5ECF6\",\"caxis\":{\"gridcolor\":\"white\",\"linecolor\":\"white\",\"ticks\":\"\"}},\"title\":{\"x\":0.05},\"xaxis\":{\"automargin\":true,\"gridcolor\":\"white\",\"linecolor\":\"white\",\"ticks\":\"\",\"title\":{\"standoff\":15},\"zerolinecolor\":\"white\",\"zerolinewidth\":2},\"yaxis\":{\"automargin\":true,\"gridcolor\":\"white\",\"linecolor\":\"white\",\"ticks\":\"\",\"title\":{\"standoff\":15},\"zerolinecolor\":\"white\",\"zerolinewidth\":2}}},\"xaxis\":{\"anchor\":\"y\",\"categoryarray\":[\"fecal pellets\",\"manure\",\"frass\"],\"categoryorder\":\"array\",\"domain\":[0.0,1.0],\"title\":{\"text\":\"treatment\"}},\"yaxis\":{\"anchor\":\"x\",\"domain\":[0.0,1.0],\"title\":{\"text\":\"mass\"}}},                        {\"responsive\": true}                    ).then(function(){\n",
       "                            \n",
       "var gd = document.getElementById('f7047cb3-1b95-4e1a-8df0-8e6097a83265');\n",
       "var x = new MutationObserver(function (mutations, observer) {{\n",
       "        var display = window.getComputedStyle(gd).display;\n",
       "        if (!display || display === 'none') {{\n",
       "            console.log([gd, 'removed!']);\n",
       "            Plotly.purge(gd);\n",
       "            observer.disconnect();\n",
       "        }}\n",
       "}});\n",
       "\n",
       "// Listen for the removal of the full notebook cells\n",
       "var notebookContainer = gd.closest('#notebook-container');\n",
       "if (notebookContainer) {{\n",
       "    x.observe(notebookContainer, {childList: true});\n",
       "}}\n",
       "\n",
       "// Listen for the clearing of the current output cell\n",
       "var outputEl = gd.closest('.output');\n",
       "if (outputEl) {{\n",
       "    x.observe(outputEl, {childList: true});\n",
       "}}\n",
       "\n",
       "                        })                };                });            </script>        </div>"
      ]
     },
     "metadata": {},
     "output_type": "display_data"
    }
   ],
   "source": [
    "df = df_endpoint[df_endpoint.status=='larva']\n",
    "fig = px.box(df, x=\"treatment\", y=\"mass\", points=\"all\", \n",
    "             category_orders={'treatment':['fecal pellets','manure','frass']})\n",
    "fig.write_image(\"larval_mass_plot.png\")\n",
    "fig.show()"
   ]
  },
  {
   "cell_type": "code",
   "execution_count": 40,
   "id": "52504596",
   "metadata": {},
   "outputs": [],
   "source": [
    "# import subprocess\n",
    "# subprocess.run(['jupyter','nbconvert','--to','html','Untitled.ipynb', 'index.html'], shell=True)"
   ]
  }
 ],
 "metadata": {
  "kernelspec": {
   "display_name": "Python 3",
   "language": "python",
   "name": "python3"
  },
  "language_info": {
   "codemirror_mode": {
    "name": "ipython",
    "version": 3
   },
   "file_extension": ".py",
   "mimetype": "text/x-python",
   "name": "python",
   "nbconvert_exporter": "python",
   "pygments_lexer": "ipython3",
   "version": "3.8.10"
  },
  "latex_metadata": {
   "affiliation": "Freie Universit\\\"at Berlin, Fachbereich Physik, 14195 Berlin, Germany",
   "author": "Julius C. F. Schulz",
   "title": "Amazing Article"
  }
 },
 "nbformat": 4,
 "nbformat_minor": 5
}
